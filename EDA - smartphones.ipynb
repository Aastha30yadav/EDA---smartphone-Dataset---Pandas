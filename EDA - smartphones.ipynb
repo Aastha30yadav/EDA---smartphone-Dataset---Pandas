{
 "cells": [
  {
   "cell_type": "code",
   "execution_count": 1,
   "id": "0e4f57bf",
   "metadata": {},
   "outputs": [],
   "source": [
    "# Importing Python libraries\n",
    "import numpy as np\n",
    "import pandas as pd\n",
    "import seaborn as sns\n",
    "import matplotlib.pyplot as plt\n",
    "import warnings\n",
    "warnings.filterwarnings('ignore')"
   ]
  },
  {
   "cell_type": "code",
   "execution_count": 2,
   "id": "8d69121e",
   "metadata": {},
   "outputs": [],
   "source": [
    "pd.set_option('display.max_columns',None)"
   ]
  },
  {
   "cell_type": "code",
   "execution_count": 3,
   "id": "43d02cba",
   "metadata": {},
   "outputs": [],
   "source": [
    "df = pd.read_csv('smartphone_cleaned_v2.csv')"
   ]
  },
  {
   "cell_type": "code",
   "execution_count": 4,
   "id": "66f03fa7",
   "metadata": {
    "scrolled": true
   },
   "outputs": [
    {
     "data": {
      "text/html": [
       "<div>\n",
       "<style scoped>\n",
       "    .dataframe tbody tr th:only-of-type {\n",
       "        vertical-align: middle;\n",
       "    }\n",
       "\n",
       "    .dataframe tbody tr th {\n",
       "        vertical-align: top;\n",
       "    }\n",
       "\n",
       "    .dataframe thead th {\n",
       "        text-align: right;\n",
       "    }\n",
       "</style>\n",
       "<table border=\"1\" class=\"dataframe\">\n",
       "  <thead>\n",
       "    <tr style=\"text-align: right;\">\n",
       "      <th></th>\n",
       "      <th>brand_name</th>\n",
       "      <th>model</th>\n",
       "      <th>price</th>\n",
       "      <th>rating</th>\n",
       "      <th>has_dual_sim</th>\n",
       "      <th>has_5g</th>\n",
       "      <th>has_nfc</th>\n",
       "      <th>has_ir_blaster</th>\n",
       "      <th>processor_name</th>\n",
       "      <th>processor_brand</th>\n",
       "      <th>num_core</th>\n",
       "      <th>processor_speed</th>\n",
       "      <th>ram_capacity</th>\n",
       "      <th>internal_memory</th>\n",
       "      <th>battery_capacity</th>\n",
       "      <th>fast_charging_cap</th>\n",
       "      <th>screen_size</th>\n",
       "      <th>resolution</th>\n",
       "      <th>refresh_rate</th>\n",
       "      <th>num_rear_camera</th>\n",
       "      <th>num_front_camera</th>\n",
       "      <th>primary_rear_camera</th>\n",
       "      <th>primary_front_camera</th>\n",
       "      <th>extended_memory</th>\n",
       "      <th>os</th>\n",
       "      <th>extended_memory_available</th>\n",
       "      <th>operating_system</th>\n",
       "      <th>fast_charging_available</th>\n",
       "    </tr>\n",
       "  </thead>\n",
       "  <tbody>\n",
       "    <tr>\n",
       "      <th>0</th>\n",
       "      <td>oneplus</td>\n",
       "      <td>OnePlus 11 5G</td>\n",
       "      <td>54999</td>\n",
       "      <td>89.0</td>\n",
       "      <td>True</td>\n",
       "      <td>True</td>\n",
       "      <td>True</td>\n",
       "      <td>False</td>\n",
       "      <td>Snapdragon 8 Gen2</td>\n",
       "      <td>snapdragon</td>\n",
       "      <td>Octa Core</td>\n",
       "      <td>3.2</td>\n",
       "      <td>12.0</td>\n",
       "      <td>256.0</td>\n",
       "      <td>5000.0</td>\n",
       "      <td>100.0</td>\n",
       "      <td>6.70</td>\n",
       "      <td>1440 x 3216</td>\n",
       "      <td>120</td>\n",
       "      <td>3</td>\n",
       "      <td>1</td>\n",
       "      <td>50.0</td>\n",
       "      <td>16</td>\n",
       "      <td>0</td>\n",
       "      <td>Android</td>\n",
       "      <td>0</td>\n",
       "      <td>Android</td>\n",
       "      <td>1</td>\n",
       "    </tr>\n",
       "    <tr>\n",
       "      <th>1</th>\n",
       "      <td>oneplus</td>\n",
       "      <td>OnePlus Nord CE 2 Lite 5G</td>\n",
       "      <td>19989</td>\n",
       "      <td>81.0</td>\n",
       "      <td>True</td>\n",
       "      <td>True</td>\n",
       "      <td>False</td>\n",
       "      <td>False</td>\n",
       "      <td>Snapdragon 695</td>\n",
       "      <td>snapdragon</td>\n",
       "      <td>Octa Core</td>\n",
       "      <td>2.2</td>\n",
       "      <td>6.0</td>\n",
       "      <td>128.0</td>\n",
       "      <td>5000.0</td>\n",
       "      <td>33.0</td>\n",
       "      <td>6.59</td>\n",
       "      <td>1080 x 2412</td>\n",
       "      <td>120</td>\n",
       "      <td>3</td>\n",
       "      <td>1</td>\n",
       "      <td>64.0</td>\n",
       "      <td>16</td>\n",
       "      <td>1 TB</td>\n",
       "      <td>Android</td>\n",
       "      <td>1</td>\n",
       "      <td>Android</td>\n",
       "      <td>1</td>\n",
       "    </tr>\n",
       "    <tr>\n",
       "      <th>2</th>\n",
       "      <td>samsung</td>\n",
       "      <td>Samsung Galaxy A14 5G</td>\n",
       "      <td>16499</td>\n",
       "      <td>75.0</td>\n",
       "      <td>True</td>\n",
       "      <td>True</td>\n",
       "      <td>False</td>\n",
       "      <td>False</td>\n",
       "      <td>Exynos 1330</td>\n",
       "      <td>exynos</td>\n",
       "      <td>Octa Core</td>\n",
       "      <td>2.4</td>\n",
       "      <td>4.0</td>\n",
       "      <td>64.0</td>\n",
       "      <td>5000.0</td>\n",
       "      <td>15.0</td>\n",
       "      <td>6.60</td>\n",
       "      <td>1080 x 2408</td>\n",
       "      <td>90</td>\n",
       "      <td>3</td>\n",
       "      <td>1</td>\n",
       "      <td>50.0</td>\n",
       "      <td>13</td>\n",
       "      <td>1 TB</td>\n",
       "      <td>Android</td>\n",
       "      <td>1</td>\n",
       "      <td>Android</td>\n",
       "      <td>1</td>\n",
       "    </tr>\n",
       "    <tr>\n",
       "      <th>3</th>\n",
       "      <td>motorola</td>\n",
       "      <td>Motorola Moto G62 5G</td>\n",
       "      <td>14999</td>\n",
       "      <td>81.0</td>\n",
       "      <td>True</td>\n",
       "      <td>True</td>\n",
       "      <td>False</td>\n",
       "      <td>False</td>\n",
       "      <td>Snapdragon  695</td>\n",
       "      <td>snapdragon</td>\n",
       "      <td>Octa Core</td>\n",
       "      <td>2.2</td>\n",
       "      <td>6.0</td>\n",
       "      <td>128.0</td>\n",
       "      <td>5000.0</td>\n",
       "      <td>0.0</td>\n",
       "      <td>6.55</td>\n",
       "      <td>1080 x 2400</td>\n",
       "      <td>120</td>\n",
       "      <td>3</td>\n",
       "      <td>1</td>\n",
       "      <td>50.0</td>\n",
       "      <td>16</td>\n",
       "      <td>1 TB</td>\n",
       "      <td>Android</td>\n",
       "      <td>1</td>\n",
       "      <td>Android</td>\n",
       "      <td>0</td>\n",
       "    </tr>\n",
       "    <tr>\n",
       "      <th>4</th>\n",
       "      <td>realme</td>\n",
       "      <td>Realme 10 Pro Plus</td>\n",
       "      <td>24999</td>\n",
       "      <td>82.0</td>\n",
       "      <td>True</td>\n",
       "      <td>True</td>\n",
       "      <td>False</td>\n",
       "      <td>False</td>\n",
       "      <td>Dimensity 1080</td>\n",
       "      <td>dimensity</td>\n",
       "      <td>Octa Core</td>\n",
       "      <td>2.6</td>\n",
       "      <td>6.0</td>\n",
       "      <td>128.0</td>\n",
       "      <td>5000.0</td>\n",
       "      <td>67.0</td>\n",
       "      <td>6.70</td>\n",
       "      <td>1080 x 2412</td>\n",
       "      <td>120</td>\n",
       "      <td>3</td>\n",
       "      <td>1</td>\n",
       "      <td>108.0</td>\n",
       "      <td>16</td>\n",
       "      <td>0</td>\n",
       "      <td>Android</td>\n",
       "      <td>0</td>\n",
       "      <td>Android</td>\n",
       "      <td>1</td>\n",
       "    </tr>\n",
       "  </tbody>\n",
       "</table>\n",
       "</div>"
      ],
      "text/plain": [
       "  brand_name                      model  price  rating  has_dual_sim  has_5g  \\\n",
       "0    oneplus              OnePlus 11 5G  54999    89.0          True    True   \n",
       "1    oneplus  OnePlus Nord CE 2 Lite 5G  19989    81.0          True    True   \n",
       "2    samsung      Samsung Galaxy A14 5G  16499    75.0          True    True   \n",
       "3   motorola       Motorola Moto G62 5G  14999    81.0          True    True   \n",
       "4     realme         Realme 10 Pro Plus  24999    82.0          True    True   \n",
       "\n",
       "   has_nfc  has_ir_blaster     processor_name processor_brand   num_core  \\\n",
       "0     True           False  Snapdragon 8 Gen2      snapdragon  Octa Core   \n",
       "1    False           False     Snapdragon 695      snapdragon  Octa Core   \n",
       "2    False           False        Exynos 1330          exynos  Octa Core   \n",
       "3    False           False    Snapdragon  695      snapdragon  Octa Core   \n",
       "4    False           False     Dimensity 1080       dimensity  Octa Core   \n",
       "\n",
       "   processor_speed  ram_capacity  internal_memory  battery_capacity  \\\n",
       "0              3.2          12.0            256.0            5000.0   \n",
       "1              2.2           6.0            128.0            5000.0   \n",
       "2              2.4           4.0             64.0            5000.0   \n",
       "3              2.2           6.0            128.0            5000.0   \n",
       "4              2.6           6.0            128.0            5000.0   \n",
       "\n",
       "   fast_charging_cap  screen_size    resolution  refresh_rate  \\\n",
       "0              100.0         6.70  1440 x 3216            120   \n",
       "1               33.0         6.59  1080 x 2412            120   \n",
       "2               15.0         6.60  1080 x 2408             90   \n",
       "3                0.0         6.55  1080 x 2400            120   \n",
       "4               67.0         6.70  1080 x 2412            120   \n",
       "\n",
       "   num_rear_camera num_front_camera  primary_rear_camera primary_front_camera  \\\n",
       "0                3                1                 50.0                   16   \n",
       "1                3                1                 64.0                   16   \n",
       "2                3                1                 50.0                   13   \n",
       "3                3                1                 50.0                   16   \n",
       "4                3                1                108.0                   16   \n",
       "\n",
       "  extended_memory       os  extended_memory_available operating_system  \\\n",
       "0               0  Android                          0          Android   \n",
       "1            1 TB  Android                          1          Android   \n",
       "2            1 TB  Android                          1          Android   \n",
       "3            1 TB  Android                          1          Android   \n",
       "4               0  Android                          0          Android   \n",
       "\n",
       "   fast_charging_available  \n",
       "0                        1  \n",
       "1                        1  \n",
       "2                        1  \n",
       "3                        0  \n",
       "4                        1  "
      ]
     },
     "execution_count": 4,
     "metadata": {},
     "output_type": "execute_result"
    }
   ],
   "source": [
    "df.head()"
   ]
  },
  {
   "cell_type": "code",
   "execution_count": 5,
   "id": "fde4129e",
   "metadata": {},
   "outputs": [
    {
     "name": "stdout",
     "output_type": "stream",
     "text": [
      "<class 'pandas.core.frame.DataFrame'>\n",
      "RangeIndex: 980 entries, 0 to 979\n",
      "Data columns (total 28 columns):\n",
      " #   Column                     Non-Null Count  Dtype  \n",
      "---  ------                     --------------  -----  \n",
      " 0   brand_name                 980 non-null    object \n",
      " 1   model                      980 non-null    object \n",
      " 2   price                      980 non-null    int64  \n",
      " 3   rating                     879 non-null    float64\n",
      " 4   has_dual_sim               980 non-null    bool   \n",
      " 5   has_5g                     980 non-null    bool   \n",
      " 6   has_nfc                    980 non-null    bool   \n",
      " 7   has_ir_blaster             980 non-null    bool   \n",
      " 8   processor_name             960 non-null    object \n",
      " 9   processor_brand            960 non-null    object \n",
      " 10  num_core                   974 non-null    object \n",
      " 11  processor_speed            938 non-null    float64\n",
      " 12  ram_capacity               977 non-null    float64\n",
      " 13  internal_memory            980 non-null    float64\n",
      " 14  battery_capacity           969 non-null    float64\n",
      " 15  fast_charging_cap          980 non-null    float64\n",
      " 16  screen_size                980 non-null    float64\n",
      " 17  resolution                 980 non-null    object \n",
      " 18  refresh_rate               980 non-null    int64  \n",
      " 19  num_rear_camera            980 non-null    int64  \n",
      " 20  num_front_camera           980 non-null    object \n",
      " 21  primary_rear_camera        980 non-null    float64\n",
      " 22  primary_front_camera       980 non-null    object \n",
      " 23  extended_memory            980 non-null    object \n",
      " 24  os                         980 non-null    object \n",
      " 25  extended_memory_available  980 non-null    int64  \n",
      " 26  operating_system           966 non-null    object \n",
      " 27  fast_charging_available    980 non-null    int64  \n",
      "dtypes: bool(4), float64(8), int64(5), object(11)\n",
      "memory usage: 187.7+ KB\n"
     ]
    }
   ],
   "source": [
    "df.info()"
   ]
  },
  {
   "cell_type": "markdown",
   "id": "a5752ae6",
   "metadata": {},
   "source": [
    "#### brand_name"
   ]
  },
  {
   "cell_type": "code",
   "execution_count": 6,
   "id": "8ef5d222",
   "metadata": {},
   "outputs": [
    {
     "data": {
      "text/plain": [
       "<AxesSubplot:>"
      ]
     },
     "execution_count": 6,
     "metadata": {},
     "output_type": "execute_result"
    },
    {
     "data": {
      "image/png": "[encoded data removed]",
      "text/plain": [
       "<Figure size 432x288 with 1 Axes>"
      ]
     },
     "metadata": {
      "needs_background": "light"
     },
     "output_type": "display_data"
    }
   ],
   "source": [
    "# Plot a graph of top 5 brands\n",
    "df['brand_name'].value_counts().head(10).plot(kind='bar')"
   ]
  },
  {
   "cell_type": "code",
   "execution_count": 7,
   "id": "b9aa72ab",
   "metadata": {
    "scrolled": true
   },
   "outputs": [
    {
     "data": {
      "text/plain": [
       "<AxesSubplot:ylabel='brand_name'>"
      ]
     },
     "execution_count": 7,
     "metadata": {},
     "output_type": "execute_result"
    },
    {
     "data": {
      "image/png": "[encoded data removed]",
      "text/plain": [
       "<Figure size 432x288 with 1 Axes>"
      ]
     },
     "metadata": {},
     "output_type": "display_data"
    }
   ],
   "source": [
    "# top 10 in percentage through pie_chart\n",
    "df['brand_name'].value_counts().head(10).plot(kind='pie',autopct = '%0.1f%%')"
   ]
  },
  {
   "cell_type": "code",
   "execution_count": 8,
   "id": "23788db9",
   "metadata": {},
   "outputs": [
    {
     "data": {
      "text/plain": [
       "0"
      ]
     },
     "execution_count": 8,
     "metadata": {},
     "output_type": "execute_result"
    }
   ],
   "source": [
    "# check missing values\n",
    "df['brand_name'].isnull().sum()"
   ]
  },
  {
   "cell_type": "code",
   "execution_count": 9,
   "id": "7d0277ff",
   "metadata": {},
   "outputs": [
    {
     "data": {
      "text/plain": [
       "980"
      ]
     },
     "execution_count": 9,
     "metadata": {},
     "output_type": "execute_result"
    }
   ],
   "source": [
    "# MODEL COLUMN (supporting column)\n",
    "df['model'].nunique()"
   ]
  },
  {
   "cell_type": "markdown",
   "id": "1ff9669e",
   "metadata": {},
   "source": [
    "## Numerical column \n",
    "- discriptive statistics : describe()\n",
    "- distribution : plot - histogram , kde, boxplot to detect outlier\n",
    "- missing values : fillna() , dropna()\n",
    "\n",
    "## Categorical column\n",
    "- value_counts (create count plot)\n",
    "- pie chart plot"
   ]
  },
  {
   "cell_type": "markdown",
   "id": "7f247d25",
   "metadata": {},
   "source": [
    "#### COLUMN (numerical) : \"price\"\n",
    "- the distribution is not normal it is skewed\n",
    "- there are outlirs in the data"
   ]
  },
  {
   "cell_type": "code",
   "execution_count": 10,
   "id": "00e6cc17",
   "metadata": {},
   "outputs": [
    {
     "data": {
      "text/plain": [
       "count       980.000000\n",
       "mean      32520.504082\n",
       "std       39531.812669\n",
       "min        3499.000000\n",
       "25%       12999.000000\n",
       "50%       19994.500000\n",
       "75%       35491.500000\n",
       "max      650000.000000\n",
       "Name: price, dtype: float64"
      ]
     },
     "execution_count": 10,
     "metadata": {},
     "output_type": "execute_result"
    }
   ],
   "source": [
    "df['price'].describe()\n",
    "# std and mean value is very high because of outliers\n",
    "# clean deviation between mean and median which shows our distribution is skewed\n",
    "# max value is very high"
   ]
  },
  {
   "cell_type": "code",
   "execution_count": 11,
   "id": "5c2a09ce",
   "metadata": {},
   "outputs": [
    {
     "data": {
      "text/plain": [
       "<seaborn.axisgrid.FacetGrid at 0x262bd436a40>"
      ]
     },
     "execution_count": 11,
     "metadata": {},
     "output_type": "execute_result"
    },
    {
     "data": {
      "image/png": "[encoded data removed]",
      "text/plain": [
       "<Figure size 360x360 with 1 Axes>"
      ]
     },
     "metadata": {
      "needs_background": "light"
     },
     "output_type": "display_data"
    }
   ],
   "source": [
    "# plot both histogram and kde plot\n",
    "sns.displot(kind='hist',data=df,x='price',kde=True)\n",
    "# this is highly skewed : most phones come under low price category and few phones comeunder high price\n"
   ]
  },
  {
   "cell_type": "code",
   "execution_count": 12,
   "id": "4e0849f8",
   "metadata": {},
   "outputs": [
    {
     "data": {
      "text/plain": [
       "6.591790999665567"
      ]
     },
     "execution_count": 12,
     "metadata": {},
     "output_type": "execute_result"
    }
   ],
   "source": [
    "df['price'].skew()\n",
    "# to check skewness - not a normal distribution"
   ]
  },
  {
   "cell_type": "code",
   "execution_count": 13,
   "id": "4716938c",
   "metadata": {},
   "outputs": [
    {
     "data": {
      "text/plain": [
       "<AxesSubplot:>"
      ]
     },
     "execution_count": 13,
     "metadata": {},
     "output_type": "execute_result"
    },
    {
     "data": {
      "image/png": "[encoded data removed]",
      "text/plain": [
       "<Figure size 432x288 with 1 Axes>"
      ]
     },
     "metadata": {
      "needs_background": "light"
     },
     "output_type": "display_data"
    }
   ],
   "source": [
    "sns.boxplot(df['price'])\n",
    "# 2 numbers are crazy highly"
   ]
  },
  {
   "cell_type": "code",
   "execution_count": 14,
   "id": "71fccc29",
   "metadata": {},
   "outputs": [
    {
     "data": {
      "text/html": [
       "<div>\n",
       "<style scoped>\n",
       "    .dataframe tbody tr th:only-of-type {\n",
       "        vertical-align: middle;\n",
       "    }\n",
       "\n",
       "    .dataframe tbody tr th {\n",
       "        vertical-align: top;\n",
       "    }\n",
       "\n",
       "    .dataframe thead th {\n",
       "        text-align: right;\n",
       "    }\n",
       "</style>\n",
       "<table border=\"1\" class=\"dataframe\">\n",
       "  <thead>\n",
       "    <tr style=\"text-align: right;\">\n",
       "      <th></th>\n",
       "      <th>brand_name</th>\n",
       "      <th>model</th>\n",
       "      <th>price</th>\n",
       "      <th>rating</th>\n",
       "      <th>has_dual_sim</th>\n",
       "      <th>has_5g</th>\n",
       "      <th>has_nfc</th>\n",
       "      <th>has_ir_blaster</th>\n",
       "      <th>processor_name</th>\n",
       "      <th>processor_brand</th>\n",
       "      <th>num_core</th>\n",
       "      <th>processor_speed</th>\n",
       "      <th>ram_capacity</th>\n",
       "      <th>internal_memory</th>\n",
       "      <th>battery_capacity</th>\n",
       "      <th>fast_charging_cap</th>\n",
       "      <th>screen_size</th>\n",
       "      <th>resolution</th>\n",
       "      <th>refresh_rate</th>\n",
       "      <th>num_rear_camera</th>\n",
       "      <th>num_front_camera</th>\n",
       "      <th>primary_rear_camera</th>\n",
       "      <th>primary_front_camera</th>\n",
       "      <th>extended_memory</th>\n",
       "      <th>os</th>\n",
       "      <th>extended_memory_available</th>\n",
       "      <th>operating_system</th>\n",
       "      <th>fast_charging_available</th>\n",
       "    </tr>\n",
       "  </thead>\n",
       "  <tbody>\n",
       "    <tr>\n",
       "      <th>427</th>\n",
       "      <td>vertu</td>\n",
       "      <td>Vertu Signature Touch</td>\n",
       "      <td>650000</td>\n",
       "      <td>62.0</td>\n",
       "      <td>False</td>\n",
       "      <td>False</td>\n",
       "      <td>True</td>\n",
       "      <td>False</td>\n",
       "      <td>Snapdragon 801</td>\n",
       "      <td>snapdragon</td>\n",
       "      <td>Octa Core</td>\n",
       "      <td>1.50</td>\n",
       "      <td>2.0</td>\n",
       "      <td>64.0</td>\n",
       "      <td>2275.0</td>\n",
       "      <td>-1.0</td>\n",
       "      <td>4.70</td>\n",
       "      <td>1080 x 1920</td>\n",
       "      <td>60</td>\n",
       "      <td>1</td>\n",
       "      <td>1</td>\n",
       "      <td>13.0</td>\n",
       "      <td>2.1</td>\n",
       "      <td>0</td>\n",
       "      <td>Android</td>\n",
       "      <td>0</td>\n",
       "      <td>Android</td>\n",
       "      <td>0</td>\n",
       "    </tr>\n",
       "    <tr>\n",
       "      <th>478</th>\n",
       "      <td>huawei</td>\n",
       "      <td>Huawei Mate 50 RS Porsche Design</td>\n",
       "      <td>239999</td>\n",
       "      <td>81.0</td>\n",
       "      <td>True</td>\n",
       "      <td>False</td>\n",
       "      <td>True</td>\n",
       "      <td>True</td>\n",
       "      <td>Snapdragon 8+ Gen1</td>\n",
       "      <td>snapdragon</td>\n",
       "      <td>Octa Core</td>\n",
       "      <td>3.20</td>\n",
       "      <td>NaN</td>\n",
       "      <td>1024.0</td>\n",
       "      <td>4700.0</td>\n",
       "      <td>66.0</td>\n",
       "      <td>6.74</td>\n",
       "      <td>1212 x 2616</td>\n",
       "      <td>120</td>\n",
       "      <td>3</td>\n",
       "      <td>1</td>\n",
       "      <td>50.0</td>\n",
       "      <td>13</td>\n",
       "      <td>256 GB</td>\n",
       "      <td>others</td>\n",
       "      <td>1</td>\n",
       "      <td>Hongmeng</td>\n",
       "      <td>1</td>\n",
       "    </tr>\n",
       "    <tr>\n",
       "      <th>887</th>\n",
       "      <td>xiaomi</td>\n",
       "      <td>Xiaomi Redmi K20 Pro Signature Edition</td>\n",
       "      <td>480000</td>\n",
       "      <td>88.0</td>\n",
       "      <td>True</td>\n",
       "      <td>False</td>\n",
       "      <td>True</td>\n",
       "      <td>False</td>\n",
       "      <td>Snapdragon  855</td>\n",
       "      <td>snapdragon</td>\n",
       "      <td>Octa Core</td>\n",
       "      <td>2.80</td>\n",
       "      <td>8.0</td>\n",
       "      <td>256.0</td>\n",
       "      <td>4000.0</td>\n",
       "      <td>27.0</td>\n",
       "      <td>6.39</td>\n",
       "      <td>1080 x 2340</td>\n",
       "      <td>60</td>\n",
       "      <td>3</td>\n",
       "      <td>1</td>\n",
       "      <td>48.0</td>\n",
       "      <td>20</td>\n",
       "      <td>0</td>\n",
       "      <td>Android</td>\n",
       "      <td>0</td>\n",
       "      <td>Android</td>\n",
       "      <td>1</td>\n",
       "    </tr>\n",
       "    <tr>\n",
       "      <th>951</th>\n",
       "      <td>huawei</td>\n",
       "      <td>Huawei Mate 30 RS Porsche Design</td>\n",
       "      <td>214990</td>\n",
       "      <td>NaN</td>\n",
       "      <td>True</td>\n",
       "      <td>True</td>\n",
       "      <td>True</td>\n",
       "      <td>True</td>\n",
       "      <td>Kirin  990</td>\n",
       "      <td>kirin</td>\n",
       "      <td>Octa Core</td>\n",
       "      <td>2.86</td>\n",
       "      <td>12.0</td>\n",
       "      <td>512.0</td>\n",
       "      <td>4500.0</td>\n",
       "      <td>0.0</td>\n",
       "      <td>6.53</td>\n",
       "      <td>1176 x 2400</td>\n",
       "      <td>60</td>\n",
       "      <td>1</td>\n",
       "      <td>2</td>\n",
       "      <td>40.0</td>\n",
       "      <td>32</td>\n",
       "      <td>256 GB</td>\n",
       "      <td>Android</td>\n",
       "      <td>1</td>\n",
       "      <td>Android</td>\n",
       "      <td>0</td>\n",
       "    </tr>\n",
       "  </tbody>\n",
       "</table>\n",
       "</div>"
      ],
      "text/plain": [
       "    brand_name                                   model   price  rating  \\\n",
       "427      vertu                   Vertu Signature Touch  650000    62.0   \n",
       "478     huawei        Huawei Mate 50 RS Porsche Design  239999    81.0   \n",
       "887     xiaomi  Xiaomi Redmi K20 Pro Signature Edition  480000    88.0   \n",
       "951     huawei        Huawei Mate 30 RS Porsche Design  214990     NaN   \n",
       "\n",
       "     has_dual_sim  has_5g  has_nfc  has_ir_blaster      processor_name  \\\n",
       "427         False   False     True           False      Snapdragon 801   \n",
       "478          True   False     True            True  Snapdragon 8+ Gen1   \n",
       "887          True   False     True           False     Snapdragon  855   \n",
       "951          True    True     True            True          Kirin  990   \n",
       "\n",
       "    processor_brand   num_core  processor_speed  ram_capacity  \\\n",
       "427      snapdragon  Octa Core             1.50           2.0   \n",
       "478      snapdragon  Octa Core             3.20           NaN   \n",
       "887      snapdragon  Octa Core             2.80           8.0   \n",
       "951           kirin  Octa Core             2.86          12.0   \n",
       "\n",
       "     internal_memory  battery_capacity  fast_charging_cap  screen_size  \\\n",
       "427             64.0            2275.0               -1.0         4.70   \n",
       "478           1024.0            4700.0               66.0         6.74   \n",
       "887            256.0            4000.0               27.0         6.39   \n",
       "951            512.0            4500.0                0.0         6.53   \n",
       "\n",
       "       resolution  refresh_rate  num_rear_camera num_front_camera  \\\n",
       "427  1080 x 1920             60                1                1   \n",
       "478  1212 x 2616            120                3                1   \n",
       "887  1080 x 2340             60                3                1   \n",
       "951  1176 x 2400             60                1                2   \n",
       "\n",
       "     primary_rear_camera primary_front_camera extended_memory       os  \\\n",
       "427                 13.0                  2.1               0  Android   \n",
       "478                 50.0                   13          256 GB   others   \n",
       "887                 48.0                   20               0  Android   \n",
       "951                 40.0                   32          256 GB  Android   \n",
       "\n",
       "     extended_memory_available operating_system  fast_charging_available  \n",
       "427                          0          Android                        0  \n",
       "478                          1         Hongmeng                        1  \n",
       "887                          0          Android                        1  \n",
       "951                          1          Android                        0  "
      ]
     },
     "execution_count": 14,
     "metadata": {},
     "output_type": "execute_result"
    }
   ],
   "source": [
    "df[df['price'] > 200000]\n",
    "# study - they are made up of gold and diamond which is not a desirable factor \n",
    "# treat them as an outlier"
   ]
  },
  {
   "cell_type": "code",
   "execution_count": 15,
   "id": "3c68a2da",
   "metadata": {},
   "outputs": [],
   "source": [
    "# removing outliers\n",
    "df = df[df['price'] < 200000]"
   ]
  },
  {
   "cell_type": "code",
   "execution_count": 16,
   "id": "3990a884",
   "metadata": {},
   "outputs": [
    {
     "data": {
      "text/plain": [
       "(976, 28)"
      ]
     },
     "execution_count": 16,
     "metadata": {},
     "output_type": "execute_result"
    }
   ],
   "source": [
    "df.shape"
   ]
  },
  {
   "cell_type": "markdown",
   "id": "59d82f91",
   "metadata": {},
   "source": [
    "#### COLUMN (numerical) : \"rating\"\n",
    "- near to normal distribution\n",
    "- 10% missing values\n",
    "- no outliers"
   ]
  },
  {
   "cell_type": "code",
   "execution_count": 17,
   "id": "bf197ad7",
   "metadata": {},
   "outputs": [
    {
     "data": {
      "text/plain": [
       "count    876.000000\n",
       "mean      78.262557\n",
       "std        7.387218\n",
       "min       60.000000\n",
       "25%       74.000000\n",
       "50%       80.000000\n",
       "75%       84.000000\n",
       "max       89.000000\n",
       "Name: rating, dtype: float64"
      ]
     },
     "execution_count": 17,
     "metadata": {},
     "output_type": "execute_result"
    }
   ],
   "source": [
    "df['rating'].describe()"
   ]
  },
  {
   "cell_type": "code",
   "execution_count": 18,
   "id": "3dd73046",
   "metadata": {},
   "outputs": [
    {
     "data": {
      "text/plain": [
       "<seaborn.axisgrid.FacetGrid at 0x262bb2b0910>"
      ]
     },
     "execution_count": 18,
     "metadata": {},
     "output_type": "execute_result"
    },
    {
     "data": {
      "image/png": "[encoded data removed]",
      "text/plain": [
       "<Figure size 360x360 with 1 Axes>"
      ]
     },
     "metadata": {
      "needs_background": "light"
     },
     "output_type": "display_data"
    }
   ],
   "source": [
    "# # plot both histogram and kde plot\n",
    "sns.displot(kind='hist',data=df,x='rating',kde=True)\n",
    "# this seemm like near to normal curve\n"
   ]
  },
  {
   "cell_type": "code",
   "execution_count": 19,
   "id": "b0a34af3",
   "metadata": {},
   "outputs": [
    {
     "data": {
      "text/plain": [
       "-0.6980929290123327"
      ]
     },
     "execution_count": 19,
     "metadata": {},
     "output_type": "execute_result"
    }
   ],
   "source": [
    "df['rating'].skew() # near to normal"
   ]
  },
  {
   "cell_type": "code",
   "execution_count": 20,
   "id": "ac4fd523",
   "metadata": {},
   "outputs": [
    {
     "data": {
      "text/plain": [
       "<AxesSubplot:>"
      ]
     },
     "execution_count": 20,
     "metadata": {},
     "output_type": "execute_result"
    },
    {
     "data": {
      "image/png": "[encoded data removed]",
      "text/plain": [
       "<Figure size 432x288 with 1 Axes>"
      ]
     },
     "metadata": {
      "needs_background": "light"
     },
     "output_type": "display_data"
    }
   ],
   "source": [
    "sns.boxplot(df['rating'])\n",
    "# no outliers"
   ]
  },
  {
   "cell_type": "code",
   "execution_count": 21,
   "id": "6653f533",
   "metadata": {},
   "outputs": [
    {
     "data": {
      "text/plain": [
       "0.10245901639344263"
      ]
     },
     "execution_count": 21,
     "metadata": {},
     "output_type": "execute_result"
    }
   ],
   "source": [
    "df[\"rating\"].isnull().sum()/df.shape[0]\n",
    "# 10% missing values"
   ]
  },
  {
   "cell_type": "markdown",
   "id": "ececad29",
   "metadata": {},
   "source": [
    "#### COLUMN (categorical)  : \"has_5g\"\n",
    "- it can become a good column to predict the price of the phone"
   ]
  },
  {
   "cell_type": "code",
   "execution_count": 22,
   "id": "da3d096a",
   "metadata": {},
   "outputs": [
    {
     "data": {
      "text/plain": [
       "True     548\n",
       "False    428\n",
       "Name: has_5g, dtype: int64"
      ]
     },
     "execution_count": 22,
     "metadata": {},
     "output_type": "execute_result"
    }
   ],
   "source": [
    "df['has_5g'].value_counts()"
   ]
  },
  {
   "cell_type": "code",
   "execution_count": 23,
   "id": "1b94b339",
   "metadata": {
    "scrolled": false
   },
   "outputs": [
    {
     "data": {
      "text/plain": [
       "<AxesSubplot:ylabel='has_5g'>"
      ]
     },
     "execution_count": 23,
     "metadata": {},
     "output_type": "execute_result"
    },
    {
     "data": {
      "image/png": "[encoded data removed]",
      "text/plain": [
       "<Figure size 432x288 with 1 Axes>"
      ]
     },
     "metadata": {},
     "output_type": "display_data"
    }
   ],
   "source": [
    "df['has_5g'].value_counts().plot(kind='pie',autopct = '%0.1f%%')\n",
    "# 56% phones are 5g enabled so it is, this could become a good column to predict price of the phone"
   ]
  },
  {
   "cell_type": "markdown",
   "id": "e590ecce",
   "metadata": {},
   "source": [
    "#### COLUMN (categorical)  : \"has_nfc\"\n",
    "- it can also become a good column to predict the price of the phone"
   ]
  },
  {
   "cell_type": "code",
   "execution_count": 24,
   "id": "dc874bc4",
   "metadata": {
    "scrolled": true
   },
   "outputs": [
    {
     "data": {
      "text/plain": [
       "False    587\n",
       "True     389\n",
       "Name: has_nfc, dtype: int64"
      ]
     },
     "execution_count": 24,
     "metadata": {},
     "output_type": "execute_result"
    }
   ],
   "source": [
    "df['has_nfc'].value_counts()"
   ]
  },
  {
   "cell_type": "code",
   "execution_count": 25,
   "id": "25dc17e4",
   "metadata": {
    "scrolled": true
   },
   "outputs": [
    {
     "data": {
      "text/plain": [
       "<AxesSubplot:ylabel='has_nfc'>"
      ]
     },
     "execution_count": 25,
     "metadata": {},
     "output_type": "execute_result"
    },
    {
     "data": {
      "image/png": "[encoded data removed]",
      "text/plain": [
       "<Figure size 432x288 with 1 Axes>"
      ]
     },
     "metadata": {},
     "output_type": "display_data"
    }
   ],
   "source": [
    "df['has_nfc'].value_counts().plot(kind='pie',autopct = '%0.1f%%')"
   ]
  },
  {
   "cell_type": "code",
   "execution_count": null,
   "id": "e9263b17",
   "metadata": {},
   "outputs": [],
   "source": []
  },
  {
   "cell_type": "markdown",
   "id": "f8a273d1",
   "metadata": {},
   "source": [
    "#### COLUMN (categorical)  : \"has_ir_blaster\"\n",
    "- it can also become a good column to predict the price of the phone"
   ]
  },
  {
   "cell_type": "code",
   "execution_count": 26,
   "id": "57be82a9",
   "metadata": {},
   "outputs": [
    {
     "data": {
      "text/plain": [
       "False    819\n",
       "True     157\n",
       "Name: has_ir_blaster, dtype: int64"
      ]
     },
     "execution_count": 26,
     "metadata": {},
     "output_type": "execute_result"
    }
   ],
   "source": [
    "df['has_ir_blaster'].value_counts()"
   ]
  },
  {
   "cell_type": "code",
   "execution_count": 27,
   "id": "924872eb",
   "metadata": {
    "scrolled": false
   },
   "outputs": [
    {
     "data": {
      "text/plain": [
       "<AxesSubplot:ylabel='has_ir_blaster'>"
      ]
     },
     "execution_count": 27,
     "metadata": {},
     "output_type": "execute_result"
    },
    {
     "data": {
      "image/png": "[encoded data removed]",
      "text/plain": [
       "<Figure size 432x288 with 1 Axes>"
      ]
     },
     "metadata": {},
     "output_type": "display_data"
    }
   ],
   "source": [
    "df['has_ir_blaster'].value_counts().plot(kind='pie',autopct = '%0.1f%%')"
   ]
  },
  {
   "cell_type": "code",
   "execution_count": 28,
   "id": "b466e738",
   "metadata": {},
   "outputs": [
    {
     "data": {
      "text/plain": [
       "xiaomi     109\n",
       "poco        30\n",
       "iqoo         6\n",
       "vivo         4\n",
       "huawei       4\n",
       "redmi        2\n",
       "honor        1\n",
       "samsung      1\n",
       "Name: brand_name, dtype: int64"
      ]
     },
     "execution_count": 28,
     "metadata": {},
     "output_type": "execute_result"
    }
   ],
   "source": [
    "df[df['has_ir_blaster'] == True]['brand_name'].value_counts()"
   ]
  },
  {
   "cell_type": "code",
   "execution_count": 29,
   "id": "05571cd4",
   "metadata": {},
   "outputs": [
    {
     "data": {
      "text/plain": [
       "<AxesSubplot:ylabel='processor_brand'>"
      ]
     },
     "execution_count": 29,
     "metadata": {},
     "output_type": "execute_result"
    },
    {
     "data": {
      "image/png": "[encoded data removed]",
      "text/plain": [
       "<Figure size 432x288 with 1 Axes>"
      ]
     },
     "metadata": {},
     "output_type": "display_data"
    }
   ],
   "source": [
    "df['processor_brand'].value_counts().plot(kind='pie',autopct=\"%0.1f%%\")"
   ]
  },
  {
   "cell_type": "code",
   "execution_count": 30,
   "id": "ea946229",
   "metadata": {},
   "outputs": [
    {
     "data": {
      "text/plain": [
       "<AxesSubplot:ylabel='num_core'>"
      ]
     },
     "execution_count": 30,
     "metadata": {},
     "output_type": "execute_result"
    },
    {
     "data": {
      "image/png": "[encoded data removed]",
      "text/plain": [
       "<Figure size 432x288 with 1 Axes>"
      ]
     },
     "metadata": {},
     "output_type": "display_data"
    }
   ],
   "source": [
    "df['num_core'].value_counts().plot(kind='pie',autopct=\"%0.1f%%\")"
   ]
  },
  {
   "cell_type": "code",
   "execution_count": 31,
   "id": "b9d58310",
   "metadata": {},
   "outputs": [
    {
     "data": {
      "text/plain": [
       "<AxesSubplot:ylabel='fast_charging_available'>"
      ]
     },
     "execution_count": 31,
     "metadata": {},
     "output_type": "execute_result"
    },
    {
     "data": {
      "image/png": "[encoded data removed]",
      "text/plain": [
       "<Figure size 432x288 with 1 Axes>"
      ]
     },
     "metadata": {},
     "output_type": "display_data"
    }
   ],
   "source": [
    "df['fast_charging_available'].value_counts().plot(kind='pie',autopct=\"%0.1f%%\")"
   ]
  },
  {
   "cell_type": "code",
   "execution_count": 32,
   "id": "4570a161",
   "metadata": {},
   "outputs": [
    {
     "data": {
      "text/plain": [
       "<AxesSubplot:ylabel='ram_capacity'>"
      ]
     },
     "execution_count": 32,
     "metadata": {},
     "output_type": "execute_result"
    },
    {
     "data": {
      "image/png": "[encoded data removed]",
      "text/plain": [
       "<Figure size 432x288 with 1 Axes>"
      ]
     },
     "metadata": {},
     "output_type": "display_data"
    }
   ],
   "source": [
    "df['ram_capacity'].value_counts().plot(kind='pie',autopct=\"%0.1f%%\")"
   ]
  },
  {
   "cell_type": "code",
   "execution_count": 33,
   "id": "2a43c718",
   "metadata": {},
   "outputs": [
    {
     "data": {
      "text/plain": [
       "<AxesSubplot:ylabel='internal_memory'>"
      ]
     },
     "execution_count": 33,
     "metadata": {},
     "output_type": "execute_result"
    },
    {
     "data": {
      "image/png": "[encoded data removed]",
      "text/plain": [
       "<Figure size 432x288 with 1 Axes>"
      ]
     },
     "metadata": {},
     "output_type": "display_data"
    }
   ],
   "source": [
    "df['internal_memory'].value_counts().plot(kind='pie',autopct=\"%0.1f%%\")"
   ]
  },
  {
   "cell_type": "code",
   "execution_count": 34,
   "id": "995cdfae",
   "metadata": {},
   "outputs": [
    {
     "data": {
      "text/plain": [
       "<AxesSubplot:ylabel='refresh_rate'>"
      ]
     },
     "execution_count": 34,
     "metadata": {},
     "output_type": "execute_result"
    },
    {
     "data": {
      "image/png": "[encoded data removed]",
      "text/plain": [
       "<Figure size 432x288 with 1 Axes>"
      ]
     },
     "metadata": {},
     "output_type": "display_data"
    }
   ],
   "source": [
    "df['refresh_rate'].value_counts().plot(kind='pie',autopct=\"%0.1f%%\")"
   ]
  },
  {
   "cell_type": "code",
   "execution_count": 35,
   "id": "94a83d40",
   "metadata": {},
   "outputs": [
    {
     "data": {
      "text/plain": [
       "60     365\n",
       "120    343\n",
       "90     219\n",
       "144     39\n",
       "165      9\n",
       "240      1\n",
       "Name: refresh_rate, dtype: int64"
      ]
     },
     "execution_count": 35,
     "metadata": {},
     "output_type": "execute_result"
    }
   ],
   "source": [
    "df['refresh_rate'].value_counts()"
   ]
  },
  {
   "cell_type": "code",
   "execution_count": 36,
   "id": "9386af09",
   "metadata": {},
   "outputs": [],
   "source": [
    "temp = df[df['num_front_camera'] == 'Missing']"
   ]
  },
  {
   "cell_type": "code",
   "execution_count": 37,
   "id": "5d59625c",
   "metadata": {},
   "outputs": [],
   "source": [
    "df.loc[temp.index,'num_front_camera'] = 0"
   ]
  },
  {
   "cell_type": "code",
   "execution_count": 38,
   "id": "08a0d211",
   "metadata": {},
   "outputs": [
    {
     "data": {
      "text/plain": [
       "1    932\n",
       "2     28\n",
       "0     16\n",
       "Name: num_front_camera, dtype: int64"
      ]
     },
     "execution_count": 38,
     "metadata": {},
     "output_type": "execute_result"
    }
   ],
   "source": [
    "df['num_front_camera'].value_counts()"
   ]
  },
  {
   "cell_type": "code",
   "execution_count": 39,
   "id": "d1f61d15",
   "metadata": {
    "scrolled": true
   },
   "outputs": [
    {
     "data": {
      "text/plain": [
       "<AxesSubplot:ylabel='os'>"
      ]
     },
     "execution_count": 39,
     "metadata": {},
     "output_type": "execute_result"
    },
    {
     "data": {
      "image/png": "[encoded data removed]",
      "text/plain": [
       "<Figure size 432x288 with 1 Axes>"
      ]
     },
     "metadata": {},
     "output_type": "display_data"
    }
   ],
   "source": [
    "df['os'].value_counts().plot(kind='pie',autopct='%0.1f%%')"
   ]
  },
  {
   "cell_type": "code",
   "execution_count": 40,
   "id": "fd641f76",
   "metadata": {},
   "outputs": [
    {
     "data": {
      "text/plain": [
       "<AxesSubplot:ylabel='extended_memory_available'>"
      ]
     },
     "execution_count": 40,
     "metadata": {},
     "output_type": "execute_result"
    },
    {
     "data": {
      "image/png": "[encoded data removed]",
      "text/plain": [
       "<Figure size 432x288 with 1 Axes>"
      ]
     },
     "metadata": {},
     "output_type": "display_data"
    }
   ],
   "source": [
    "# extended_memory_available\n",
    "df['extended_memory_available'].value_counts().plot(kind='pie',autopct='%0.1f%%')"
   ]
  },
  {
   "cell_type": "code",
   "execution_count": 53,
   "id": "63e0e30a",
   "metadata": {
    "scrolled": false
   },
   "outputs": [],
   "source": [
    "df['extended_memory'] = df['extended_memory'].apply(lambda x:np.nan if x == '0' else x)"
   ]
  },
  {
   "cell_type": "code",
   "execution_count": 54,
   "id": "3cfd5c40",
   "metadata": {},
   "outputs": [
    {
     "data": {
      "text/plain": [
       "1 TB       262\n",
       "512 GB     116\n",
       "256 GB     102\n",
       "128 GB      10\n",
       "2 TB         8\n",
       "32 GB        3\n",
       "64 GB        3\n",
       "1000 GB      1\n",
       "Name: extended_memory, dtype: int64"
      ]
     },
     "execution_count": 54,
     "metadata": {},
     "output_type": "execute_result"
    }
   ],
   "source": [
    "df['extended_memory'].value_counts()"
   ]
  },
  {
   "cell_type": "code",
   "execution_count": 55,
   "id": "182b4e43",
   "metadata": {},
   "outputs": [
    {
     "data": {
      "text/plain": [
       "<AxesSubplot:ylabel='extended_memory'>"
      ]
     },
     "execution_count": 55,
     "metadata": {},
     "output_type": "execute_result"
    },
    {
     "data": {
      "image/png": "[encoded data removed]",
      "text/plain": [
       "<Figure size 432x288 with 1 Axes>"
      ]
     },
     "metadata": {},
     "output_type": "display_data"
    }
   ],
   "source": [
    "df['extended_memory'].value_counts().plot(kind='pie',autopct='%0.1f%%')"
   ]
  },
  {
   "cell_type": "code",
   "execution_count": 60,
   "id": "077c7b90",
   "metadata": {},
   "outputs": [],
   "source": [
    "def plot_graphs(column_name):\n",
    "\n",
    "  sns.displot(kind='hist',kde=True,data=df,x=column_name,label=column_name)\n",
    "  sns.catplot(kind='box',data=df,x=column_name)"
   ]
  },
  {
   "cell_type": "code",
   "execution_count": 61,
   "id": "6e0405a4",
   "metadata": {},
   "outputs": [
    {
     "data": {
      "text/html": [
       "<div>\n",
       "<style scoped>\n",
       "    .dataframe tbody tr th:only-of-type {\n",
       "        vertical-align: middle;\n",
       "    }\n",
       "\n",
       "    .dataframe tbody tr th {\n",
       "        vertical-align: top;\n",
       "    }\n",
       "\n",
       "    .dataframe thead th {\n",
       "        text-align: right;\n",
       "    }\n",
       "</style>\n",
       "<table border=\"1\" class=\"dataframe\">\n",
       "  <thead>\n",
       "    <tr style=\"text-align: right;\">\n",
       "      <th></th>\n",
       "      <th>brand_name</th>\n",
       "      <th>model</th>\n",
       "      <th>price</th>\n",
       "      <th>rating</th>\n",
       "      <th>has_dual_sim</th>\n",
       "      <th>has_5g</th>\n",
       "      <th>has_nfc</th>\n",
       "      <th>has_ir_blaster</th>\n",
       "      <th>processor_name</th>\n",
       "      <th>processor_brand</th>\n",
       "      <th>num_core</th>\n",
       "      <th>processor_speed</th>\n",
       "      <th>ram_capacity</th>\n",
       "      <th>internal_memory</th>\n",
       "      <th>battery_capacity</th>\n",
       "      <th>fast_charging_cap</th>\n",
       "      <th>screen_size</th>\n",
       "      <th>resolution</th>\n",
       "      <th>refresh_rate</th>\n",
       "      <th>num_rear_camera</th>\n",
       "      <th>num_front_camera</th>\n",
       "      <th>primary_rear_camera</th>\n",
       "      <th>primary_front_camera</th>\n",
       "      <th>extended_memory</th>\n",
       "      <th>os</th>\n",
       "      <th>extended_memory_available</th>\n",
       "      <th>operating_system</th>\n",
       "      <th>fast_charging_available</th>\n",
       "    </tr>\n",
       "  </thead>\n",
       "  <tbody>\n",
       "    <tr>\n",
       "      <th>0</th>\n",
       "      <td>oneplus</td>\n",
       "      <td>OnePlus 11 5G</td>\n",
       "      <td>54999</td>\n",
       "      <td>89.0</td>\n",
       "      <td>True</td>\n",
       "      <td>True</td>\n",
       "      <td>True</td>\n",
       "      <td>False</td>\n",
       "      <td>Snapdragon 8 Gen2</td>\n",
       "      <td>snapdragon</td>\n",
       "      <td>Octa Core</td>\n",
       "      <td>3.2</td>\n",
       "      <td>12.0</td>\n",
       "      <td>256.0</td>\n",
       "      <td>5000.0</td>\n",
       "      <td>100.0</td>\n",
       "      <td>6.70</td>\n",
       "      <td>1440 x 3216</td>\n",
       "      <td>120</td>\n",
       "      <td>3</td>\n",
       "      <td>1</td>\n",
       "      <td>50.0</td>\n",
       "      <td>16</td>\n",
       "      <td>NaN</td>\n",
       "      <td>Android</td>\n",
       "      <td>0</td>\n",
       "      <td>Android</td>\n",
       "      <td>1</td>\n",
       "    </tr>\n",
       "    <tr>\n",
       "      <th>1</th>\n",
       "      <td>oneplus</td>\n",
       "      <td>OnePlus Nord CE 2 Lite 5G</td>\n",
       "      <td>19989</td>\n",
       "      <td>81.0</td>\n",
       "      <td>True</td>\n",
       "      <td>True</td>\n",
       "      <td>False</td>\n",
       "      <td>False</td>\n",
       "      <td>Snapdragon 695</td>\n",
       "      <td>snapdragon</td>\n",
       "      <td>Octa Core</td>\n",
       "      <td>2.2</td>\n",
       "      <td>6.0</td>\n",
       "      <td>128.0</td>\n",
       "      <td>5000.0</td>\n",
       "      <td>33.0</td>\n",
       "      <td>6.59</td>\n",
       "      <td>1080 x 2412</td>\n",
       "      <td>120</td>\n",
       "      <td>3</td>\n",
       "      <td>1</td>\n",
       "      <td>64.0</td>\n",
       "      <td>16</td>\n",
       "      <td>1 TB</td>\n",
       "      <td>Android</td>\n",
       "      <td>1</td>\n",
       "      <td>Android</td>\n",
       "      <td>1</td>\n",
       "    </tr>\n",
       "    <tr>\n",
       "      <th>2</th>\n",
       "      <td>samsung</td>\n",
       "      <td>Samsung Galaxy A14 5G</td>\n",
       "      <td>16499</td>\n",
       "      <td>75.0</td>\n",
       "      <td>True</td>\n",
       "      <td>True</td>\n",
       "      <td>False</td>\n",
       "      <td>False</td>\n",
       "      <td>Exynos 1330</td>\n",
       "      <td>exynos</td>\n",
       "      <td>Octa Core</td>\n",
       "      <td>2.4</td>\n",
       "      <td>4.0</td>\n",
       "      <td>64.0</td>\n",
       "      <td>5000.0</td>\n",
       "      <td>15.0</td>\n",
       "      <td>6.60</td>\n",
       "      <td>1080 x 2408</td>\n",
       "      <td>90</td>\n",
       "      <td>3</td>\n",
       "      <td>1</td>\n",
       "      <td>50.0</td>\n",
       "      <td>13</td>\n",
       "      <td>1 TB</td>\n",
       "      <td>Android</td>\n",
       "      <td>1</td>\n",
       "      <td>Android</td>\n",
       "      <td>1</td>\n",
       "    </tr>\n",
       "    <tr>\n",
       "      <th>3</th>\n",
       "      <td>motorola</td>\n",
       "      <td>Motorola Moto G62 5G</td>\n",
       "      <td>14999</td>\n",
       "      <td>81.0</td>\n",
       "      <td>True</td>\n",
       "      <td>True</td>\n",
       "      <td>False</td>\n",
       "      <td>False</td>\n",
       "      <td>Snapdragon  695</td>\n",
       "      <td>snapdragon</td>\n",
       "      <td>Octa Core</td>\n",
       "      <td>2.2</td>\n",
       "      <td>6.0</td>\n",
       "      <td>128.0</td>\n",
       "      <td>5000.0</td>\n",
       "      <td>0.0</td>\n",
       "      <td>6.55</td>\n",
       "      <td>1080 x 2400</td>\n",
       "      <td>120</td>\n",
       "      <td>3</td>\n",
       "      <td>1</td>\n",
       "      <td>50.0</td>\n",
       "      <td>16</td>\n",
       "      <td>1 TB</td>\n",
       "      <td>Android</td>\n",
       "      <td>1</td>\n",
       "      <td>Android</td>\n",
       "      <td>0</td>\n",
       "    </tr>\n",
       "    <tr>\n",
       "      <th>4</th>\n",
       "      <td>realme</td>\n",
       "      <td>Realme 10 Pro Plus</td>\n",
       "      <td>24999</td>\n",
       "      <td>82.0</td>\n",
       "      <td>True</td>\n",
       "      <td>True</td>\n",
       "      <td>False</td>\n",
       "      <td>False</td>\n",
       "      <td>Dimensity 1080</td>\n",
       "      <td>dimensity</td>\n",
       "      <td>Octa Core</td>\n",
       "      <td>2.6</td>\n",
       "      <td>6.0</td>\n",
       "      <td>128.0</td>\n",
       "      <td>5000.0</td>\n",
       "      <td>67.0</td>\n",
       "      <td>6.70</td>\n",
       "      <td>1080 x 2412</td>\n",
       "      <td>120</td>\n",
       "      <td>3</td>\n",
       "      <td>1</td>\n",
       "      <td>108.0</td>\n",
       "      <td>16</td>\n",
       "      <td>NaN</td>\n",
       "      <td>Android</td>\n",
       "      <td>0</td>\n",
       "      <td>Android</td>\n",
       "      <td>1</td>\n",
       "    </tr>\n",
       "  </tbody>\n",
       "</table>\n",
       "</div>"
      ],
      "text/plain": [
       "  brand_name                      model  price  rating  has_dual_sim  has_5g  \\\n",
       "0    oneplus              OnePlus 11 5G  54999    89.0          True    True   \n",
       "1    oneplus  OnePlus Nord CE 2 Lite 5G  19989    81.0          True    True   \n",
       "2    samsung      Samsung Galaxy A14 5G  16499    75.0          True    True   \n",
       "3   motorola       Motorola Moto G62 5G  14999    81.0          True    True   \n",
       "4     realme         Realme 10 Pro Plus  24999    82.0          True    True   \n",
       "\n",
       "   has_nfc  has_ir_blaster     processor_name processor_brand   num_core  \\\n",
       "0     True           False  Snapdragon 8 Gen2      snapdragon  Octa Core   \n",
       "1    False           False     Snapdragon 695      snapdragon  Octa Core   \n",
       "2    False           False        Exynos 1330          exynos  Octa Core   \n",
       "3    False           False    Snapdragon  695      snapdragon  Octa Core   \n",
       "4    False           False     Dimensity 1080       dimensity  Octa Core   \n",
       "\n",
       "   processor_speed  ram_capacity  internal_memory  battery_capacity  \\\n",
       "0              3.2          12.0            256.0            5000.0   \n",
       "1              2.2           6.0            128.0            5000.0   \n",
       "2              2.4           4.0             64.0            5000.0   \n",
       "3              2.2           6.0            128.0            5000.0   \n",
       "4              2.6           6.0            128.0            5000.0   \n",
       "\n",
       "   fast_charging_cap  screen_size    resolution  refresh_rate  \\\n",
       "0              100.0         6.70  1440 x 3216            120   \n",
       "1               33.0         6.59  1080 x 2412            120   \n",
       "2               15.0         6.60  1080 x 2408             90   \n",
       "3                0.0         6.55  1080 x 2400            120   \n",
       "4               67.0         6.70  1080 x 2412            120   \n",
       "\n",
       "   num_rear_camera num_front_camera  primary_rear_camera primary_front_camera  \\\n",
       "0                3                1                 50.0                   16   \n",
       "1                3                1                 64.0                   16   \n",
       "2                3                1                 50.0                   13   \n",
       "3                3                1                 50.0                   16   \n",
       "4                3                1                108.0                   16   \n",
       "\n",
       "  extended_memory       os  extended_memory_available operating_system  \\\n",
       "0             NaN  Android                          0          Android   \n",
       "1            1 TB  Android                          1          Android   \n",
       "2            1 TB  Android                          1          Android   \n",
       "3            1 TB  Android                          1          Android   \n",
       "4             NaN  Android                          0          Android   \n",
       "\n",
       "   fast_charging_available  \n",
       "0                        1  \n",
       "1                        1  \n",
       "2                        1  \n",
       "3                        0  \n",
       "4                        1  "
      ]
     },
     "execution_count": 61,
     "metadata": {},
     "output_type": "execute_result"
    }
   ],
   "source": [
    "df.head()"
   ]
  },
  {
   "cell_type": "code",
   "execution_count": 62,
   "id": "aac69744",
   "metadata": {},
   "outputs": [
    {
     "data": {
      "text/plain": [
       "(array([ 0,  1,  2,  3,  4,  5,  6,  7,  8,  9, 10, 11, 12, 13, 14, 15, 16,\n",
       "        17, 18, 19, 20, 21, 22, 23, 24, 25, 26, 27, 28, 29, 30, 31, 32, 33,\n",
       "        34, 35, 36, 37, 38, 39, 40, 41, 42, 43, 44]),\n",
       " [Text(0, 0, 'oneplus'),\n",
       "  Text(1, 0, 'samsung'),\n",
       "  Text(2, 0, 'motorola'),\n",
       "  Text(3, 0, 'realme'),\n",
       "  Text(4, 0, 'apple'),\n",
       "  Text(5, 0, 'xiaomi'),\n",
       "  Text(6, 0, 'nothing'),\n",
       "  Text(7, 0, 'oppo'),\n",
       "  Text(8, 0, 'vivo'),\n",
       "  Text(9, 0, 'poco'),\n",
       "  Text(10, 0, 'iqoo'),\n",
       "  Text(11, 0, 'jio'),\n",
       "  Text(12, 0, 'gionee'),\n",
       "  Text(13, 0, 'tecno'),\n",
       "  Text(14, 0, 'tesla'),\n",
       "  Text(15, 0, 'google'),\n",
       "  Text(16, 0, 'infinix'),\n",
       "  Text(17, 0, 'cola'),\n",
       "  Text(18, 0, 'letv'),\n",
       "  Text(19, 0, 'ikall'),\n",
       "  Text(20, 0, 'leeco'),\n",
       "  Text(21, 0, 'duoqin'),\n",
       "  Text(22, 0, 'nokia'),\n",
       "  Text(23, 0, 'lava'),\n",
       "  Text(24, 0, 'honor'),\n",
       "  Text(25, 0, 'nubia'),\n",
       "  Text(26, 0, 'redmi'),\n",
       "  Text(27, 0, 'asus'),\n",
       "  Text(28, 0, 'itel'),\n",
       "  Text(29, 0, 'royole'),\n",
       "  Text(30, 0, 'sony'),\n",
       "  Text(31, 0, 'oukitel'),\n",
       "  Text(32, 0, 'blu'),\n",
       "  Text(33, 0, 'lyf'),\n",
       "  Text(34, 0, 'huawei'),\n",
       "  Text(35, 0, 'zte'),\n",
       "  Text(36, 0, 'lenovo'),\n",
       "  Text(37, 0, 'lg'),\n",
       "  Text(38, 0, 'micromax'),\n",
       "  Text(39, 0, 'leitz'),\n",
       "  Text(40, 0, 'cat'),\n",
       "  Text(41, 0, 'doogee'),\n",
       "  Text(42, 0, 'tcl'),\n",
       "  Text(43, 0, 'sharp'),\n",
       "  Text(44, 0, 'blackview')])"
      ]
     },
     "execution_count": 62,
     "metadata": {},
     "output_type": "execute_result"
    },
    {
     "data": {
      "image/png": "[encoded data removed]",
      "text/plain": [
       "<Figure size 1440x720 with 1 Axes>"
      ]
     },
     "metadata": {
      "needs_background": "light"
     },
     "output_type": "display_data"
    }
   ],
   "source": [
    "plt.figure(figsize=(20,10))\n",
    "sns.barplot(data=df,x='brand_name',y='price')\n",
    "plt.xticks(rotation='vertical')"
   ]
  },
  {
   "cell_type": "code",
   "execution_count": 63,
   "id": "cf87625b",
   "metadata": {},
   "outputs": [],
   "source": [
    "x = df.groupby('brand_name').count()['model'] "
   ]
  },
  {
   "cell_type": "code",
   "execution_count": 64,
   "id": "570745cc",
   "metadata": {},
   "outputs": [],
   "source": [
    "temp_df = df[df['brand_name'].isin(x[x > 10].index)]"
   ]
  },
  {
   "cell_type": "code",
   "execution_count": 65,
   "id": "89ba5342",
   "metadata": {},
   "outputs": [
    {
     "data": {
      "text/plain": [
       "(array([ 0,  1,  2,  3,  4,  5,  6,  7,  8,  9, 10, 11, 12, 13, 14, 15]),\n",
       " [Text(0, 0, 'oneplus'),\n",
       "  Text(1, 0, 'samsung'),\n",
       "  Text(2, 0, 'motorola'),\n",
       "  Text(3, 0, 'realme'),\n",
       "  Text(4, 0, 'apple'),\n",
       "  Text(5, 0, 'xiaomi'),\n",
       "  Text(6, 0, 'oppo'),\n",
       "  Text(7, 0, 'vivo'),\n",
       "  Text(8, 0, 'poco'),\n",
       "  Text(9, 0, 'iqoo'),\n",
       "  Text(10, 0, 'tecno'),\n",
       "  Text(11, 0, 'google'),\n",
       "  Text(12, 0, 'infinix'),\n",
       "  Text(13, 0, 'nokia'),\n",
       "  Text(14, 0, 'honor'),\n",
       "  Text(15, 0, 'huawei')])"
      ]
     },
     "execution_count": 65,
     "metadata": {},
     "output_type": "execute_result"
    },
    {
     "data": {
      "image/png": "[encoded data removed]",
      "text/plain": [
       "<Figure size 1080x576 with 1 Axes>"
      ]
     },
     "metadata": {
      "needs_background": "light"
     },
     "output_type": "display_data"
    }
   ],
   "source": [
    "plt.figure(figsize=(15,8))\n",
    "sns.barplot(data=temp_df,x='brand_name',y='price')\n",
    "plt.xticks(rotation='vertical')"
   ]
  },
  {
   "cell_type": "code",
   "execution_count": 66,
   "id": "51db8f16",
   "metadata": {},
   "outputs": [
    {
     "data": {
      "text/html": [
       "<div>\n",
       "<style scoped>\n",
       "    .dataframe tbody tr th:only-of-type {\n",
       "        vertical-align: middle;\n",
       "    }\n",
       "\n",
       "    .dataframe tbody tr th {\n",
       "        vertical-align: top;\n",
       "    }\n",
       "\n",
       "    .dataframe thead th {\n",
       "        text-align: right;\n",
       "    }\n",
       "</style>\n",
       "<table border=\"1\" class=\"dataframe\">\n",
       "  <thead>\n",
       "    <tr style=\"text-align: right;\">\n",
       "      <th></th>\n",
       "      <th>brand_name</th>\n",
       "      <th>model</th>\n",
       "      <th>price</th>\n",
       "      <th>rating</th>\n",
       "      <th>has_dual_sim</th>\n",
       "      <th>has_5g</th>\n",
       "      <th>has_nfc</th>\n",
       "      <th>has_ir_blaster</th>\n",
       "      <th>processor_name</th>\n",
       "      <th>processor_brand</th>\n",
       "      <th>num_core</th>\n",
       "      <th>processor_speed</th>\n",
       "      <th>ram_capacity</th>\n",
       "      <th>internal_memory</th>\n",
       "      <th>battery_capacity</th>\n",
       "      <th>fast_charging_cap</th>\n",
       "      <th>screen_size</th>\n",
       "      <th>resolution</th>\n",
       "      <th>refresh_rate</th>\n",
       "      <th>num_rear_camera</th>\n",
       "      <th>num_front_camera</th>\n",
       "      <th>primary_rear_camera</th>\n",
       "      <th>primary_front_camera</th>\n",
       "      <th>extended_memory</th>\n",
       "      <th>os</th>\n",
       "      <th>extended_memory_available</th>\n",
       "      <th>operating_system</th>\n",
       "      <th>fast_charging_available</th>\n",
       "    </tr>\n",
       "  </thead>\n",
       "  <tbody>\n",
       "    <tr>\n",
       "      <th>0</th>\n",
       "      <td>oneplus</td>\n",
       "      <td>OnePlus 11 5G</td>\n",
       "      <td>54999</td>\n",
       "      <td>89.0</td>\n",
       "      <td>True</td>\n",
       "      <td>True</td>\n",
       "      <td>True</td>\n",
       "      <td>False</td>\n",
       "      <td>Snapdragon 8 Gen2</td>\n",
       "      <td>snapdragon</td>\n",
       "      <td>Octa Core</td>\n",
       "      <td>3.2</td>\n",
       "      <td>12.0</td>\n",
       "      <td>256.0</td>\n",
       "      <td>5000.0</td>\n",
       "      <td>100.0</td>\n",
       "      <td>6.70</td>\n",
       "      <td>1440 x 3216</td>\n",
       "      <td>120</td>\n",
       "      <td>3</td>\n",
       "      <td>1</td>\n",
       "      <td>50.0</td>\n",
       "      <td>16</td>\n",
       "      <td>NaN</td>\n",
       "      <td>Android</td>\n",
       "      <td>0</td>\n",
       "      <td>Android</td>\n",
       "      <td>1</td>\n",
       "    </tr>\n",
       "    <tr>\n",
       "      <th>1</th>\n",
       "      <td>oneplus</td>\n",
       "      <td>OnePlus Nord CE 2 Lite 5G</td>\n",
       "      <td>19989</td>\n",
       "      <td>81.0</td>\n",
       "      <td>True</td>\n",
       "      <td>True</td>\n",
       "      <td>False</td>\n",
       "      <td>False</td>\n",
       "      <td>Snapdragon 695</td>\n",
       "      <td>snapdragon</td>\n",
       "      <td>Octa Core</td>\n",
       "      <td>2.2</td>\n",
       "      <td>6.0</td>\n",
       "      <td>128.0</td>\n",
       "      <td>5000.0</td>\n",
       "      <td>33.0</td>\n",
       "      <td>6.59</td>\n",
       "      <td>1080 x 2412</td>\n",
       "      <td>120</td>\n",
       "      <td>3</td>\n",
       "      <td>1</td>\n",
       "      <td>64.0</td>\n",
       "      <td>16</td>\n",
       "      <td>1 TB</td>\n",
       "      <td>Android</td>\n",
       "      <td>1</td>\n",
       "      <td>Android</td>\n",
       "      <td>1</td>\n",
       "    </tr>\n",
       "    <tr>\n",
       "      <th>2</th>\n",
       "      <td>samsung</td>\n",
       "      <td>Samsung Galaxy A14 5G</td>\n",
       "      <td>16499</td>\n",
       "      <td>75.0</td>\n",
       "      <td>True</td>\n",
       "      <td>True</td>\n",
       "      <td>False</td>\n",
       "      <td>False</td>\n",
       "      <td>Exynos 1330</td>\n",
       "      <td>exynos</td>\n",
       "      <td>Octa Core</td>\n",
       "      <td>2.4</td>\n",
       "      <td>4.0</td>\n",
       "      <td>64.0</td>\n",
       "      <td>5000.0</td>\n",
       "      <td>15.0</td>\n",
       "      <td>6.60</td>\n",
       "      <td>1080 x 2408</td>\n",
       "      <td>90</td>\n",
       "      <td>3</td>\n",
       "      <td>1</td>\n",
       "      <td>50.0</td>\n",
       "      <td>13</td>\n",
       "      <td>1 TB</td>\n",
       "      <td>Android</td>\n",
       "      <td>1</td>\n",
       "      <td>Android</td>\n",
       "      <td>1</td>\n",
       "    </tr>\n",
       "    <tr>\n",
       "      <th>3</th>\n",
       "      <td>motorola</td>\n",
       "      <td>Motorola Moto G62 5G</td>\n",
       "      <td>14999</td>\n",
       "      <td>81.0</td>\n",
       "      <td>True</td>\n",
       "      <td>True</td>\n",
       "      <td>False</td>\n",
       "      <td>False</td>\n",
       "      <td>Snapdragon  695</td>\n",
       "      <td>snapdragon</td>\n",
       "      <td>Octa Core</td>\n",
       "      <td>2.2</td>\n",
       "      <td>6.0</td>\n",
       "      <td>128.0</td>\n",
       "      <td>5000.0</td>\n",
       "      <td>0.0</td>\n",
       "      <td>6.55</td>\n",
       "      <td>1080 x 2400</td>\n",
       "      <td>120</td>\n",
       "      <td>3</td>\n",
       "      <td>1</td>\n",
       "      <td>50.0</td>\n",
       "      <td>16</td>\n",
       "      <td>1 TB</td>\n",
       "      <td>Android</td>\n",
       "      <td>1</td>\n",
       "      <td>Android</td>\n",
       "      <td>0</td>\n",
       "    </tr>\n",
       "    <tr>\n",
       "      <th>4</th>\n",
       "      <td>realme</td>\n",
       "      <td>Realme 10 Pro Plus</td>\n",
       "      <td>24999</td>\n",
       "      <td>82.0</td>\n",
       "      <td>True</td>\n",
       "      <td>True</td>\n",
       "      <td>False</td>\n",
       "      <td>False</td>\n",
       "      <td>Dimensity 1080</td>\n",
       "      <td>dimensity</td>\n",
       "      <td>Octa Core</td>\n",
       "      <td>2.6</td>\n",
       "      <td>6.0</td>\n",
       "      <td>128.0</td>\n",
       "      <td>5000.0</td>\n",
       "      <td>67.0</td>\n",
       "      <td>6.70</td>\n",
       "      <td>1080 x 2412</td>\n",
       "      <td>120</td>\n",
       "      <td>3</td>\n",
       "      <td>1</td>\n",
       "      <td>108.0</td>\n",
       "      <td>16</td>\n",
       "      <td>NaN</td>\n",
       "      <td>Android</td>\n",
       "      <td>0</td>\n",
       "      <td>Android</td>\n",
       "      <td>1</td>\n",
       "    </tr>\n",
       "  </tbody>\n",
       "</table>\n",
       "</div>"
      ],
      "text/plain": [
       "  brand_name                      model  price  rating  has_dual_sim  has_5g  \\\n",
       "0    oneplus              OnePlus 11 5G  54999    89.0          True    True   \n",
       "1    oneplus  OnePlus Nord CE 2 Lite 5G  19989    81.0          True    True   \n",
       "2    samsung      Samsung Galaxy A14 5G  16499    75.0          True    True   \n",
       "3   motorola       Motorola Moto G62 5G  14999    81.0          True    True   \n",
       "4     realme         Realme 10 Pro Plus  24999    82.0          True    True   \n",
       "\n",
       "   has_nfc  has_ir_blaster     processor_name processor_brand   num_core  \\\n",
       "0     True           False  Snapdragon 8 Gen2      snapdragon  Octa Core   \n",
       "1    False           False     Snapdragon 695      snapdragon  Octa Core   \n",
       "2    False           False        Exynos 1330          exynos  Octa Core   \n",
       "3    False           False    Snapdragon  695      snapdragon  Octa Core   \n",
       "4    False           False     Dimensity 1080       dimensity  Octa Core   \n",
       "\n",
       "   processor_speed  ram_capacity  internal_memory  battery_capacity  \\\n",
       "0              3.2          12.0            256.0            5000.0   \n",
       "1              2.2           6.0            128.0            5000.0   \n",
       "2              2.4           4.0             64.0            5000.0   \n",
       "3              2.2           6.0            128.0            5000.0   \n",
       "4              2.6           6.0            128.0            5000.0   \n",
       "\n",
       "   fast_charging_cap  screen_size    resolution  refresh_rate  \\\n",
       "0              100.0         6.70  1440 x 3216            120   \n",
       "1               33.0         6.59  1080 x 2412            120   \n",
       "2               15.0         6.60  1080 x 2408             90   \n",
       "3                0.0         6.55  1080 x 2400            120   \n",
       "4               67.0         6.70  1080 x 2412            120   \n",
       "\n",
       "   num_rear_camera num_front_camera  primary_rear_camera primary_front_camera  \\\n",
       "0                3                1                 50.0                   16   \n",
       "1                3                1                 64.0                   16   \n",
       "2                3                1                 50.0                   13   \n",
       "3                3                1                 50.0                   16   \n",
       "4                3                1                108.0                   16   \n",
       "\n",
       "  extended_memory       os  extended_memory_available operating_system  \\\n",
       "0             NaN  Android                          0          Android   \n",
       "1            1 TB  Android                          1          Android   \n",
       "2            1 TB  Android                          1          Android   \n",
       "3            1 TB  Android                          1          Android   \n",
       "4             NaN  Android                          0          Android   \n",
       "\n",
       "   fast_charging_available  \n",
       "0                        1  \n",
       "1                        1  \n",
       "2                        1  \n",
       "3                        0  \n",
       "4                        1  "
      ]
     },
     "execution_count": 66,
     "metadata": {},
     "output_type": "execute_result"
    }
   ],
   "source": [
    "df.head()"
   ]
  },
  {
   "cell_type": "code",
   "execution_count": 67,
   "id": "9149b4a3",
   "metadata": {},
   "outputs": [
    {
     "data": {
      "text/plain": [
       "<AxesSubplot:xlabel='rating', ylabel='price'>"
      ]
     },
     "execution_count": 67,
     "metadata": {},
     "output_type": "execute_result"
    },
    {
     "data": {
      "image/png": "[encoded data removed]",
      "text/plain": [
       "<Figure size 432x288 with 1 Axes>"
      ]
     },
     "metadata": {
      "needs_background": "light"
     },
     "output_type": "display_data"
    }
   ],
   "source": [
    "sns.scatterplot(data=df,x='rating',y='price')"
   ]
  },
  {
   "cell_type": "code",
   "execution_count": 68,
   "id": "1046ae38",
   "metadata": {},
   "outputs": [
    {
     "data": {
      "text/plain": [
       "<AxesSubplot:xlabel='has_5g', ylabel='price'>"
      ]
     },
     "execution_count": 68,
     "metadata": {},
     "output_type": "execute_result"
    },
    {
     "data": {
      "image/png": "[encoded data removed]",
      "text/plain": [
       "<Figure size 432x288 with 1 Axes>"
      ]
     },
     "metadata": {
      "needs_background": "light"
     },
     "output_type": "display_data"
    }
   ],
   "source": [
    "sns.barplot(data=temp_df,x='has_5g',y='price',estimator=np.median)"
   ]
  },
  {
   "cell_type": "code",
   "execution_count": 69,
   "id": "71676212",
   "metadata": {},
   "outputs": [
    {
     "data": {
      "text/plain": [
       "<AxesSubplot:xlabel='has_nfc', ylabel='price'>"
      ]
     },
     "execution_count": 69,
     "metadata": {},
     "output_type": "execute_result"
    },
    {
     "data": {
      "image/png": "[encoded data removed]",
      "text/plain": [
       "<Figure size 432x288 with 1 Axes>"
      ]
     },
     "metadata": {
      "needs_background": "light"
     },
     "output_type": "display_data"
    }
   ],
   "source": [
    "sns.pointplot(data=temp_df,x='has_nfc',y='price',estimator=np.median)"
   ]
  },
  {
   "cell_type": "code",
   "execution_count": 70,
   "id": "a7325ba0",
   "metadata": {},
   "outputs": [
    {
     "data": {
      "text/plain": [
       "<AxesSubplot:xlabel='has_ir_blaster', ylabel='price'>"
      ]
     },
     "execution_count": 70,
     "metadata": {},
     "output_type": "execute_result"
    },
    {
     "data": {
      "image/png": "[encoded data removed]",
      "text/plain": [
       "<Figure size 432x288 with 1 Axes>"
      ]
     },
     "metadata": {
      "needs_background": "light"
     },
     "output_type": "display_data"
    }
   ],
   "source": [
    "sns.barplot(data=temp_df,x='has_ir_blaster',y='price',estimator=np.median)"
   ]
  },
  {
   "cell_type": "code",
   "execution_count": 72,
   "id": "81da8e7d",
   "metadata": {},
   "outputs": [
    {
     "data": {
      "text/plain": [
       "(array([ 0,  1,  2,  3,  4,  5,  6,  7,  8,  9, 10, 11, 12, 13, 14, 15, 16,\n",
       "        17]),\n",
       " [Text(0, 0, 'snapdragon'),\n",
       "  Text(1, 0, 'exynos'),\n",
       "  Text(2, 0, 'dimensity'),\n",
       "  Text(3, 0, 'bionic'),\n",
       "  Text(4, 0, 'helio'),\n",
       "  Text(5, 0, 'a13'),\n",
       "  Text(6, 0, 'unisoc'),\n",
       "  Text(7, 0, 'google'),\n",
       "  Text(8, 0, 'tiger'),\n",
       "  Text(9, 0, 'apple'),\n",
       "  Text(10, 0, 'sc9863a'),\n",
       "  Text(11, 0, 'sanpdragon'),\n",
       "  Text(12, 0, 'fusion'),\n",
       "  Text(13, 0, 'kirin'),\n",
       "  Text(14, 0, 'spreadtrum'),\n",
       "  Text(15, 0, 'mediatek'),\n",
       "  Text(16, 0, 'qualcomm'),\n",
       "  Text(17, 0, 'samsung')])"
      ]
     },
     "execution_count": 72,
     "metadata": {},
     "output_type": "execute_result"
    },
    {
     "data": {
      "image/png": "[encoded data removed]",
      "text/plain": [
       "<Figure size 432x288 with 1 Axes>"
      ]
     },
     "metadata": {
      "needs_background": "light"
     },
     "output_type": "display_data"
    }
   ],
   "source": [
    "sns.barplot(data=temp_df,x='processor_brand',y='price',estimator=np.median)\n",
    "plt.xticks(rotation='vertical')"
   ]
  },
  {
   "cell_type": "code",
   "execution_count": 74,
   "id": "b8518726",
   "metadata": {},
   "outputs": [
    {
     "data": {
      "text/plain": [
       "(array([0, 1, 2]),\n",
       " [Text(0, 0, 'Octa Core'), Text(1, 0, 'Hexa Core'), Text(2, 0, 'Quad Core')])"
      ]
     },
     "execution_count": 74,
     "metadata": {},
     "output_type": "execute_result"
    },
    {
     "data": {
      "image/png": "[encoded data removed]",
      "text/plain": [
       "<Figure size 432x288 with 1 Axes>"
      ]
     },
     "metadata": {
      "needs_background": "light"
     },
     "output_type": "display_data"
    }
   ],
   "source": [
    "sns.barplot(data=temp_df,x='num_core',y='price',estimator=np.median)\n",
    "plt.xticks(rotation='vertical')"
   ]
  },
  {
   "cell_type": "code",
   "execution_count": 75,
   "id": "94c09a8e",
   "metadata": {},
   "outputs": [
    {
     "data": {
      "text/html": [
       "<div>\n",
       "<style scoped>\n",
       "    .dataframe tbody tr th:only-of-type {\n",
       "        vertical-align: middle;\n",
       "    }\n",
       "\n",
       "    .dataframe tbody tr th {\n",
       "        vertical-align: top;\n",
       "    }\n",
       "\n",
       "    .dataframe thead th {\n",
       "        text-align: right;\n",
       "    }\n",
       "</style>\n",
       "<table border=\"1\" class=\"dataframe\">\n",
       "  <thead>\n",
       "    <tr style=\"text-align: right;\">\n",
       "      <th>os</th>\n",
       "      <th>Android</th>\n",
       "      <th>iOS</th>\n",
       "      <th>others</th>\n",
       "    </tr>\n",
       "    <tr>\n",
       "      <th>num_core</th>\n",
       "      <th></th>\n",
       "      <th></th>\n",
       "      <th></th>\n",
       "    </tr>\n",
       "  </thead>\n",
       "  <tbody>\n",
       "    <tr>\n",
       "      <th>Hexa Core</th>\n",
       "      <td>0</td>\n",
       "      <td>39</td>\n",
       "      <td>0</td>\n",
       "    </tr>\n",
       "    <tr>\n",
       "      <th>Octa Core</th>\n",
       "      <td>873</td>\n",
       "      <td>1</td>\n",
       "      <td>21</td>\n",
       "    </tr>\n",
       "    <tr>\n",
       "      <th>Quad Core</th>\n",
       "      <td>32</td>\n",
       "      <td>1</td>\n",
       "      <td>3</td>\n",
       "    </tr>\n",
       "  </tbody>\n",
       "</table>\n",
       "</div>"
      ],
      "text/plain": [
       "os         Android  iOS  others\n",
       "num_core                       \n",
       "Hexa Core        0   39       0\n",
       "Octa Core      873    1      21\n",
       "Quad Core       32    1       3"
      ]
     },
     "execution_count": 75,
     "metadata": {},
     "output_type": "execute_result"
    }
   ],
   "source": [
    "pd.crosstab(df['num_core'],df['os'])"
   ]
  },
  {
   "cell_type": "code",
   "execution_count": 76,
   "id": "f25a3abe",
   "metadata": {},
   "outputs": [
    {
     "data": {
      "text/plain": [
       "<AxesSubplot:xlabel='processor_speed', ylabel='price'>"
      ]
     },
     "execution_count": 76,
     "metadata": {},
     "output_type": "execute_result"
    },
    {
     "data": {
      "image/png": "[encoded data removed]",
      "text/plain": [
       "<Figure size 432x288 with 1 Axes>"
      ]
     },
     "metadata": {
      "needs_background": "light"
     },
     "output_type": "display_data"
    }
   ],
   "source": [
    "sns.scatterplot(data=df,x='processor_speed',y='price')"
   ]
  },
  {
   "cell_type": "code",
   "execution_count": 77,
   "id": "b106fecd",
   "metadata": {},
   "outputs": [
    {
     "data": {
      "text/plain": [
       "<AxesSubplot:xlabel='screen_size', ylabel='price'>"
      ]
     },
     "execution_count": 77,
     "metadata": {},
     "output_type": "execute_result"
    },
    {
     "data": {
      "image/png": "[encoded data removed]",
      "text/plain": [
       "<Figure size 432x288 with 1 Axes>"
      ]
     },
     "metadata": {
      "needs_background": "light"
     },
     "output_type": "display_data"
    }
   ],
   "source": [
    "sns.scatterplot(data=df,x='screen_size',y='price')"
   ]
  },
  {
   "cell_type": "code",
   "execution_count": 78,
   "id": "3e69f489",
   "metadata": {},
   "outputs": [
    {
     "data": {
      "text/plain": [
       "price                        1.000000\n",
       "rating                       0.440310\n",
       "has_dual_sim                -0.078803\n",
       "has_5g                       0.449403\n",
       "has_nfc                      0.565145\n",
       "has_ir_blaster              -0.035643\n",
       "processor_speed              0.677717\n",
       "ram_capacity                 0.516906\n",
       "internal_memory              0.700274\n",
       "battery_capacity            -0.143090\n",
       "fast_charging_cap            0.212547\n",
       "screen_size                  0.268080\n",
       "refresh_rate                 0.365485\n",
       "num_rear_camera              0.093697\n",
       "primary_rear_camera          0.135230\n",
       "extended_memory_available   -0.415518\n",
       "fast_charging_available     -0.022404\n",
       "Name: price, dtype: float64"
      ]
     },
     "execution_count": 78,
     "metadata": {},
     "output_type": "execute_result"
    }
   ],
   "source": [
    "df.corr()['price']"
   ]
  },
  {
   "cell_type": "code",
   "execution_count": 79,
   "id": "6097aeef",
   "metadata": {},
   "outputs": [
    {
     "data": {
      "text/plain": [
       "brand_name                     0\n",
       "model                          0\n",
       "price                          0\n",
       "rating                       100\n",
       "has_dual_sim                   0\n",
       "has_5g                         0\n",
       "has_nfc                        0\n",
       "has_ir_blaster                 0\n",
       "processor_name                20\n",
       "processor_brand               20\n",
       "num_core                       6\n",
       "processor_speed               42\n",
       "ram_capacity                   2\n",
       "internal_memory                0\n",
       "battery_capacity              11\n",
       "fast_charging_cap              0\n",
       "screen_size                    0\n",
       "resolution                     0\n",
       "refresh_rate                   0\n",
       "num_rear_camera                0\n",
       "num_front_camera               0\n",
       "primary_rear_camera            0\n",
       "primary_front_camera           0\n",
       "extended_memory              471\n",
       "os                             0\n",
       "extended_memory_available      0\n",
       "operating_system              14\n",
       "fast_charging_available        0\n",
       "dtype: int64"
      ]
     },
     "execution_count": 79,
     "metadata": {},
     "output_type": "execute_result"
    }
   ],
   "source": [
    "df.isnull().sum()"
   ]
  },
  {
   "cell_type": "code",
   "execution_count": 80,
   "id": "2607646b",
   "metadata": {},
   "outputs": [
    {
     "data": {
      "text/plain": [
       "price                        0.440310\n",
       "rating                       1.000000\n",
       "has_dual_sim                -0.007144\n",
       "has_5g                       0.599009\n",
       "has_nfc                      0.478652\n",
       "has_ir_blaster               0.156108\n",
       "processor_speed              0.626405\n",
       "ram_capacity                 0.758082\n",
       "internal_memory              0.482339\n",
       "battery_capacity            -0.020858\n",
       "fast_charging_cap            0.580247\n",
       "screen_size                  0.290861\n",
       "refresh_rate                 0.612806\n",
       "num_rear_camera              0.285797\n",
       "primary_rear_camera          0.560266\n",
       "extended_memory_available   -0.335035\n",
       "fast_charging_available      0.457297\n",
       "Name: rating, dtype: float64"
      ]
     },
     "execution_count": 80,
     "metadata": {},
     "output_type": "execute_result"
    }
   ],
   "source": [
    "df.corr()['rating']"
   ]
  },
  {
   "cell_type": "code",
   "execution_count": 81,
   "id": "6800dbe3",
   "metadata": {},
   "outputs": [
    {
     "data": {
      "text/plain": [
       "(976, 28)"
      ]
     },
     "execution_count": 81,
     "metadata": {},
     "output_type": "execute_result"
    }
   ],
   "source": [
    "# knn imputer\n",
    "df.shape"
   ]
  },
  {
   "cell_type": "code",
   "execution_count": 82,
   "id": "7ac7a638",
   "metadata": {},
   "outputs": [],
   "source": [
    "x_df = df.select_dtypes(include=['int64','float64']).drop(columns='price')"
   ]
  },
  {
   "cell_type": "code",
   "execution_count": 83,
   "id": "856db0d8",
   "metadata": {},
   "outputs": [],
   "source": [
    "from sklearn.impute import KNNImputer"
   ]
  },
  {
   "cell_type": "code",
   "execution_count": 84,
   "id": "85507321",
   "metadata": {},
   "outputs": [],
   "source": [
    "imputer = KNNImputer(n_neighbors=5)"
   ]
  },
  {
   "cell_type": "code",
   "execution_count": 85,
   "id": "500f72f0",
   "metadata": {},
   "outputs": [],
   "source": [
    "x_df_values = imputer.fit_transform(x_df)"
   ]
  },
  {
   "cell_type": "code",
   "execution_count": 86,
   "id": "1b7e792a",
   "metadata": {},
   "outputs": [],
   "source": [
    "x_df = pd.DataFrame(x_df_values,columns=x_df.columns)"
   ]
  },
  {
   "cell_type": "code",
   "execution_count": 87,
   "id": "01efc1b6",
   "metadata": {},
   "outputs": [],
   "source": [
    "x_df['price'] = df['price']"
   ]
  },
  {
   "cell_type": "code",
   "execution_count": 88,
   "id": "b60a1cc0",
   "metadata": {},
   "outputs": [
    {
     "data": {
      "text/html": [
       "<div>\n",
       "<style scoped>\n",
       "    .dataframe tbody tr th:only-of-type {\n",
       "        vertical-align: middle;\n",
       "    }\n",
       "\n",
       "    .dataframe tbody tr th {\n",
       "        vertical-align: top;\n",
       "    }\n",
       "\n",
       "    .dataframe thead th {\n",
       "        text-align: right;\n",
       "    }\n",
       "</style>\n",
       "<table border=\"1\" class=\"dataframe\">\n",
       "  <thead>\n",
       "    <tr style=\"text-align: right;\">\n",
       "      <th></th>\n",
       "      <th>rating</th>\n",
       "      <th>processor_speed</th>\n",
       "      <th>ram_capacity</th>\n",
       "      <th>internal_memory</th>\n",
       "      <th>battery_capacity</th>\n",
       "      <th>fast_charging_cap</th>\n",
       "      <th>screen_size</th>\n",
       "      <th>refresh_rate</th>\n",
       "      <th>num_rear_camera</th>\n",
       "      <th>primary_rear_camera</th>\n",
       "      <th>extended_memory_available</th>\n",
       "      <th>fast_charging_available</th>\n",
       "      <th>price</th>\n",
       "    </tr>\n",
       "  </thead>\n",
       "  <tbody>\n",
       "    <tr>\n",
       "      <th>0</th>\n",
       "      <td>89.0</td>\n",
       "      <td>3.2</td>\n",
       "      <td>12.0</td>\n",
       "      <td>256.0</td>\n",
       "      <td>5000.0</td>\n",
       "      <td>100.0</td>\n",
       "      <td>6.70</td>\n",
       "      <td>120.0</td>\n",
       "      <td>3.0</td>\n",
       "      <td>50.0</td>\n",
       "      <td>0.0</td>\n",
       "      <td>1.0</td>\n",
       "      <td>54999.0</td>\n",
       "    </tr>\n",
       "    <tr>\n",
       "      <th>1</th>\n",
       "      <td>81.0</td>\n",
       "      <td>2.2</td>\n",
       "      <td>6.0</td>\n",
       "      <td>128.0</td>\n",
       "      <td>5000.0</td>\n",
       "      <td>33.0</td>\n",
       "      <td>6.59</td>\n",
       "      <td>120.0</td>\n",
       "      <td>3.0</td>\n",
       "      <td>64.0</td>\n",
       "      <td>1.0</td>\n",
       "      <td>1.0</td>\n",
       "      <td>19989.0</td>\n",
       "    </tr>\n",
       "    <tr>\n",
       "      <th>2</th>\n",
       "      <td>75.0</td>\n",
       "      <td>2.4</td>\n",
       "      <td>4.0</td>\n",
       "      <td>64.0</td>\n",
       "      <td>5000.0</td>\n",
       "      <td>15.0</td>\n",
       "      <td>6.60</td>\n",
       "      <td>90.0</td>\n",
       "      <td>3.0</td>\n",
       "      <td>50.0</td>\n",
       "      <td>1.0</td>\n",
       "      <td>1.0</td>\n",
       "      <td>16499.0</td>\n",
       "    </tr>\n",
       "    <tr>\n",
       "      <th>3</th>\n",
       "      <td>81.0</td>\n",
       "      <td>2.2</td>\n",
       "      <td>6.0</td>\n",
       "      <td>128.0</td>\n",
       "      <td>5000.0</td>\n",
       "      <td>0.0</td>\n",
       "      <td>6.55</td>\n",
       "      <td>120.0</td>\n",
       "      <td>3.0</td>\n",
       "      <td>50.0</td>\n",
       "      <td>1.0</td>\n",
       "      <td>0.0</td>\n",
       "      <td>14999.0</td>\n",
       "    </tr>\n",
       "    <tr>\n",
       "      <th>4</th>\n",
       "      <td>82.0</td>\n",
       "      <td>2.6</td>\n",
       "      <td>6.0</td>\n",
       "      <td>128.0</td>\n",
       "      <td>5000.0</td>\n",
       "      <td>67.0</td>\n",
       "      <td>6.70</td>\n",
       "      <td>120.0</td>\n",
       "      <td>3.0</td>\n",
       "      <td>108.0</td>\n",
       "      <td>0.0</td>\n",
       "      <td>1.0</td>\n",
       "      <td>24999.0</td>\n",
       "    </tr>\n",
       "  </tbody>\n",
       "</table>\n",
       "</div>"
      ],
      "text/plain": [
       "   rating  processor_speed  ram_capacity  internal_memory  battery_capacity  \\\n",
       "0    89.0              3.2          12.0            256.0            5000.0   \n",
       "1    81.0              2.2           6.0            128.0            5000.0   \n",
       "2    75.0              2.4           4.0             64.0            5000.0   \n",
       "3    81.0              2.2           6.0            128.0            5000.0   \n",
       "4    82.0              2.6           6.0            128.0            5000.0   \n",
       "\n",
       "   fast_charging_cap  screen_size  refresh_rate  num_rear_camera  \\\n",
       "0              100.0         6.70         120.0              3.0   \n",
       "1               33.0         6.59         120.0              3.0   \n",
       "2               15.0         6.60          90.0              3.0   \n",
       "3                0.0         6.55         120.0              3.0   \n",
       "4               67.0         6.70         120.0              3.0   \n",
       "\n",
       "   primary_rear_camera  extended_memory_available  fast_charging_available  \\\n",
       "0                 50.0                        0.0                      1.0   \n",
       "1                 64.0                        1.0                      1.0   \n",
       "2                 50.0                        1.0                      1.0   \n",
       "3                 50.0                        1.0                      0.0   \n",
       "4                108.0                        0.0                      1.0   \n",
       "\n",
       "     price  \n",
       "0  54999.0  \n",
       "1  19989.0  \n",
       "2  16499.0  \n",
       "3  14999.0  \n",
       "4  24999.0  "
      ]
     },
     "execution_count": 88,
     "metadata": {},
     "output_type": "execute_result"
    }
   ],
   "source": [
    "x_df.head()"
   ]
  },
  {
   "cell_type": "code",
   "execution_count": 89,
   "id": "8e4058ac",
   "metadata": {},
   "outputs": [],
   "source": [
    "a = x_df.corr()['price'].reset_index()"
   ]
  },
  {
   "cell_type": "code",
   "execution_count": 90,
   "id": "bedac867",
   "metadata": {},
   "outputs": [],
   "source": [
    "b = df.corr()['price'].reset_index()"
   ]
  },
  {
   "cell_type": "code",
   "execution_count": 91,
   "id": "e7fa35a2",
   "metadata": {},
   "outputs": [
    {
     "data": {
      "text/html": [
       "<div>\n",
       "<style scoped>\n",
       "    .dataframe tbody tr th:only-of-type {\n",
       "        vertical-align: middle;\n",
       "    }\n",
       "\n",
       "    .dataframe tbody tr th {\n",
       "        vertical-align: top;\n",
       "    }\n",
       "\n",
       "    .dataframe thead th {\n",
       "        text-align: right;\n",
       "    }\n",
       "</style>\n",
       "<table border=\"1\" class=\"dataframe\">\n",
       "  <thead>\n",
       "    <tr style=\"text-align: right;\">\n",
       "      <th></th>\n",
       "      <th>index</th>\n",
       "      <th>price_x</th>\n",
       "      <th>price_y</th>\n",
       "    </tr>\n",
       "  </thead>\n",
       "  <tbody>\n",
       "    <tr>\n",
       "      <th>0</th>\n",
       "      <td>price</td>\n",
       "      <td>1.000000</td>\n",
       "      <td>1.000000</td>\n",
       "    </tr>\n",
       "    <tr>\n",
       "      <th>1</th>\n",
       "      <td>rating</td>\n",
       "      <td>0.440310</td>\n",
       "      <td>0.195689</td>\n",
       "    </tr>\n",
       "    <tr>\n",
       "      <th>2</th>\n",
       "      <td>processor_speed</td>\n",
       "      <td>0.677717</td>\n",
       "      <td>0.271777</td>\n",
       "    </tr>\n",
       "    <tr>\n",
       "      <th>3</th>\n",
       "      <td>ram_capacity</td>\n",
       "      <td>0.516906</td>\n",
       "      <td>0.258044</td>\n",
       "    </tr>\n",
       "    <tr>\n",
       "      <th>4</th>\n",
       "      <td>internal_memory</td>\n",
       "      <td>0.700274</td>\n",
       "      <td>0.233421</td>\n",
       "    </tr>\n",
       "    <tr>\n",
       "      <th>5</th>\n",
       "      <td>battery_capacity</td>\n",
       "      <td>-0.143090</td>\n",
       "      <td>-0.080031</td>\n",
       "    </tr>\n",
       "    <tr>\n",
       "      <th>6</th>\n",
       "      <td>fast_charging_cap</td>\n",
       "      <td>0.212547</td>\n",
       "      <td>0.108785</td>\n",
       "    </tr>\n",
       "    <tr>\n",
       "      <th>7</th>\n",
       "      <td>screen_size</td>\n",
       "      <td>0.268080</td>\n",
       "      <td>0.095614</td>\n",
       "    </tr>\n",
       "    <tr>\n",
       "      <th>8</th>\n",
       "      <td>refresh_rate</td>\n",
       "      <td>0.365485</td>\n",
       "      <td>0.153936</td>\n",
       "    </tr>\n",
       "    <tr>\n",
       "      <th>9</th>\n",
       "      <td>num_rear_camera</td>\n",
       "      <td>0.093697</td>\n",
       "      <td>0.044391</td>\n",
       "    </tr>\n",
       "    <tr>\n",
       "      <th>10</th>\n",
       "      <td>primary_rear_camera</td>\n",
       "      <td>0.135230</td>\n",
       "      <td>0.127320</td>\n",
       "    </tr>\n",
       "    <tr>\n",
       "      <th>11</th>\n",
       "      <td>extended_memory_available</td>\n",
       "      <td>-0.415518</td>\n",
       "      <td>-0.191951</td>\n",
       "    </tr>\n",
       "    <tr>\n",
       "      <th>12</th>\n",
       "      <td>fast_charging_available</td>\n",
       "      <td>-0.022404</td>\n",
       "      <td>-0.039990</td>\n",
       "    </tr>\n",
       "  </tbody>\n",
       "</table>\n",
       "</div>"
      ],
      "text/plain": [
       "                        index   price_x   price_y\n",
       "0                       price  1.000000  1.000000\n",
       "1                      rating  0.440310  0.195689\n",
       "2             processor_speed  0.677717  0.271777\n",
       "3                ram_capacity  0.516906  0.258044\n",
       "4             internal_memory  0.700274  0.233421\n",
       "5            battery_capacity -0.143090 -0.080031\n",
       "6           fast_charging_cap  0.212547  0.108785\n",
       "7                 screen_size  0.268080  0.095614\n",
       "8                refresh_rate  0.365485  0.153936\n",
       "9             num_rear_camera  0.093697  0.044391\n",
       "10        primary_rear_camera  0.135230  0.127320\n",
       "11  extended_memory_available -0.415518 -0.191951\n",
       "12    fast_charging_available -0.022404 -0.039990"
      ]
     },
     "execution_count": 91,
     "metadata": {},
     "output_type": "execute_result"
    }
   ],
   "source": [
    "b.merge(a,on='index')"
   ]
  },
  {
   "cell_type": "code",
   "execution_count": 92,
   "id": "580e1935",
   "metadata": {},
   "outputs": [
    {
     "data": {
      "text/plain": [
       "price                         1.000000\n",
       "rating                        0.440310\n",
       "has_dual_sim                 -0.078803\n",
       "has_5g                        0.449403\n",
       "has_nfc                       0.565145\n",
       "                                ...   \n",
       "processor_brand_spreadtrum   -0.054709\n",
       "processor_brand_tiger        -0.116654\n",
       "processor_brand_unisoc       -0.126977\n",
       "os_iOS                        0.483742\n",
       "os_others                     0.206932\n",
       "Name: price, Length: 80, dtype: float64"
      ]
     },
     "execution_count": 92,
     "metadata": {},
     "output_type": "execute_result"
    }
   ],
   "source": [
    "pd.get_dummies(df,columns=['brand_name','processor_brand','os'],drop_first=True).corr()['price']"
   ]
  },
  {
   "cell_type": "code",
   "execution_count": null,
   "id": "46067891",
   "metadata": {},
   "outputs": [],
   "source": []
  }
 ],
 "metadata": {
  "kernelspec": {
   "display_name": "Python 3 (ipykernel)",
   "language": "python",
   "name": "python3"
  },
  "language_info": {
   "codemirror_mode": {
    "name": "ipython",
    "version": 3
   },
   "file_extension": ".py",
   "mimetype": "text/x-python",
   "name": "python",
   "nbconvert_exporter": "python",
   "pygments_lexer": "ipython3",
   "version": "3.10.1"
  }
 },
 "nbformat": 4,
 "nbformat_minor": 5
}
